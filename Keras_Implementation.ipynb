{
 "cells": [
  {
   "cell_type": "markdown",
   "metadata": {
    "colab_type": "text",
    "id": "6qE3RU7Ier1t"
   },
   "source": [
    "# Setting up the Environment"
   ]
  },
  {
   "cell_type": "code",
   "execution_count": 1,
   "metadata": {},
   "outputs": [],
   "source": [
    "import numpy as np\n",
    "import pandas as pd\n",
    "import tensorflow as tf\n",
    "import matplotlib.pyplot as plt\n",
    "from sklearn.model_selection import train_test_split\n",
    "from tensorflow.keras.callbacks import ModelCheckpoint\n",
    "from tensorflow.keras.models import Sequential, load_model\n",
    "from tensorflow.keras.preprocessing.image import ImageDataGenerator\n",
    "from tensorflow.keras.layers import Conv2D, Dropout, Activation, Dense, BatchNormalization, MaxPooling2D, Flatten, GlobalAveragePooling2D"
   ]
  },
  {
   "cell_type": "code",
   "execution_count": 2,
   "metadata": {},
   "outputs": [
    {
     "data": {
      "text/plain": [
       "'2.0.0-beta1'"
      ]
     },
     "execution_count": 2,
     "metadata": {},
     "output_type": "execute_result"
    }
   ],
   "source": [
    "tf.__version__"
   ]
  },
  {
   "cell_type": "code",
   "execution_count": 3,
   "metadata": {},
   "outputs": [
    {
     "data": {
      "text/plain": [
       "True"
      ]
     },
     "execution_count": 3,
     "metadata": {},
     "output_type": "execute_result"
    }
   ],
   "source": [
    "tf.test.is_gpu_available()"
   ]
  },
  {
   "cell_type": "markdown",
   "metadata": {
    "colab_type": "text",
    "id": "2MN6Z9G-evrX"
   },
   "source": [
    "# Getting the Data"
   ]
  },
  {
   "cell_type": "markdown",
   "metadata": {},
   "source": [
    "**The 0-9 indices correspond to the following labels:- <br />\n",
    "0 -> T-shirt/top <br />\n",
    "1 -> Trouser <br />\n",
    "2 -> Pullover <br />\n",
    "3 -> Dress <br />\n",
    "4 -> Coat <br />\n",
    "5 -> Sandal <br />\n",
    "6 -> Shirt <br />\n",
    "7 -> Sneaker <br />\n",
    "8 -> Bag <br />\n",
    "9 -> Ankle boot**"
   ]
  },
  {
   "cell_type": "code",
   "execution_count": 4,
   "metadata": {
    "colab": {
     "base_uri": "https://localhost:8080/",
     "height": 246
    },
    "colab_type": "code",
    "id": "je95VlpvymWT",
    "outputId": "b94823d8-0ca5-46f9-a92a-7b2e5966981d"
   },
   "outputs": [
    {
     "data": {
      "text/html": [
       "<div>\n",
       "<style scoped>\n",
       "    .dataframe tbody tr th:only-of-type {\n",
       "        vertical-align: middle;\n",
       "    }\n",
       "\n",
       "    .dataframe tbody tr th {\n",
       "        vertical-align: top;\n",
       "    }\n",
       "\n",
       "    .dataframe thead th {\n",
       "        text-align: right;\n",
       "    }\n",
       "</style>\n",
       "<table border=\"1\" class=\"dataframe\">\n",
       "  <thead>\n",
       "    <tr style=\"text-align: right;\">\n",
       "      <th></th>\n",
       "      <th>label</th>\n",
       "      <th>pixel1</th>\n",
       "      <th>pixel2</th>\n",
       "      <th>pixel3</th>\n",
       "      <th>pixel4</th>\n",
       "      <th>pixel5</th>\n",
       "      <th>pixel6</th>\n",
       "      <th>pixel7</th>\n",
       "      <th>pixel8</th>\n",
       "      <th>pixel9</th>\n",
       "      <th>...</th>\n",
       "      <th>pixel775</th>\n",
       "      <th>pixel776</th>\n",
       "      <th>pixel777</th>\n",
       "      <th>pixel778</th>\n",
       "      <th>pixel779</th>\n",
       "      <th>pixel780</th>\n",
       "      <th>pixel781</th>\n",
       "      <th>pixel782</th>\n",
       "      <th>pixel783</th>\n",
       "      <th>pixel784</th>\n",
       "    </tr>\n",
       "  </thead>\n",
       "  <tbody>\n",
       "    <tr>\n",
       "      <th>0</th>\n",
       "      <td>2</td>\n",
       "      <td>0</td>\n",
       "      <td>0</td>\n",
       "      <td>0</td>\n",
       "      <td>0</td>\n",
       "      <td>0</td>\n",
       "      <td>0</td>\n",
       "      <td>0</td>\n",
       "      <td>0</td>\n",
       "      <td>0</td>\n",
       "      <td>...</td>\n",
       "      <td>0</td>\n",
       "      <td>0</td>\n",
       "      <td>0</td>\n",
       "      <td>0</td>\n",
       "      <td>0</td>\n",
       "      <td>0</td>\n",
       "      <td>0</td>\n",
       "      <td>0</td>\n",
       "      <td>0</td>\n",
       "      <td>0</td>\n",
       "    </tr>\n",
       "    <tr>\n",
       "      <th>1</th>\n",
       "      <td>9</td>\n",
       "      <td>0</td>\n",
       "      <td>0</td>\n",
       "      <td>0</td>\n",
       "      <td>0</td>\n",
       "      <td>0</td>\n",
       "      <td>0</td>\n",
       "      <td>0</td>\n",
       "      <td>0</td>\n",
       "      <td>0</td>\n",
       "      <td>...</td>\n",
       "      <td>0</td>\n",
       "      <td>0</td>\n",
       "      <td>0</td>\n",
       "      <td>0</td>\n",
       "      <td>0</td>\n",
       "      <td>0</td>\n",
       "      <td>0</td>\n",
       "      <td>0</td>\n",
       "      <td>0</td>\n",
       "      <td>0</td>\n",
       "    </tr>\n",
       "    <tr>\n",
       "      <th>2</th>\n",
       "      <td>6</td>\n",
       "      <td>0</td>\n",
       "      <td>0</td>\n",
       "      <td>0</td>\n",
       "      <td>0</td>\n",
       "      <td>0</td>\n",
       "      <td>0</td>\n",
       "      <td>0</td>\n",
       "      <td>5</td>\n",
       "      <td>0</td>\n",
       "      <td>...</td>\n",
       "      <td>0</td>\n",
       "      <td>0</td>\n",
       "      <td>0</td>\n",
       "      <td>30</td>\n",
       "      <td>43</td>\n",
       "      <td>0</td>\n",
       "      <td>0</td>\n",
       "      <td>0</td>\n",
       "      <td>0</td>\n",
       "      <td>0</td>\n",
       "    </tr>\n",
       "    <tr>\n",
       "      <th>3</th>\n",
       "      <td>0</td>\n",
       "      <td>0</td>\n",
       "      <td>0</td>\n",
       "      <td>0</td>\n",
       "      <td>1</td>\n",
       "      <td>2</td>\n",
       "      <td>0</td>\n",
       "      <td>0</td>\n",
       "      <td>0</td>\n",
       "      <td>0</td>\n",
       "      <td>...</td>\n",
       "      <td>3</td>\n",
       "      <td>0</td>\n",
       "      <td>0</td>\n",
       "      <td>0</td>\n",
       "      <td>0</td>\n",
       "      <td>1</td>\n",
       "      <td>0</td>\n",
       "      <td>0</td>\n",
       "      <td>0</td>\n",
       "      <td>0</td>\n",
       "    </tr>\n",
       "    <tr>\n",
       "      <th>4</th>\n",
       "      <td>3</td>\n",
       "      <td>0</td>\n",
       "      <td>0</td>\n",
       "      <td>0</td>\n",
       "      <td>0</td>\n",
       "      <td>0</td>\n",
       "      <td>0</td>\n",
       "      <td>0</td>\n",
       "      <td>0</td>\n",
       "      <td>0</td>\n",
       "      <td>...</td>\n",
       "      <td>0</td>\n",
       "      <td>0</td>\n",
       "      <td>0</td>\n",
       "      <td>0</td>\n",
       "      <td>0</td>\n",
       "      <td>0</td>\n",
       "      <td>0</td>\n",
       "      <td>0</td>\n",
       "      <td>0</td>\n",
       "      <td>0</td>\n",
       "    </tr>\n",
       "  </tbody>\n",
       "</table>\n",
       "<p>5 rows × 785 columns</p>\n",
       "</div>"
      ],
      "text/plain": [
       "   label  pixel1  pixel2  pixel3  pixel4  pixel5  pixel6  pixel7  pixel8  \\\n",
       "0      2       0       0       0       0       0       0       0       0   \n",
       "1      9       0       0       0       0       0       0       0       0   \n",
       "2      6       0       0       0       0       0       0       0       5   \n",
       "3      0       0       0       0       1       2       0       0       0   \n",
       "4      3       0       0       0       0       0       0       0       0   \n",
       "\n",
       "   pixel9  ...  pixel775  pixel776  pixel777  pixel778  pixel779  pixel780  \\\n",
       "0       0  ...         0         0         0         0         0         0   \n",
       "1       0  ...         0         0         0         0         0         0   \n",
       "2       0  ...         0         0         0        30        43         0   \n",
       "3       0  ...         3         0         0         0         0         1   \n",
       "4       0  ...         0         0         0         0         0         0   \n",
       "\n",
       "   pixel781  pixel782  pixel783  pixel784  \n",
       "0         0         0         0         0  \n",
       "1         0         0         0         0  \n",
       "2         0         0         0         0  \n",
       "3         0         0         0         0  \n",
       "4         0         0         0         0  \n",
       "\n",
       "[5 rows x 785 columns]"
      ]
     },
     "execution_count": 4,
     "metadata": {},
     "output_type": "execute_result"
    }
   ],
   "source": [
    "data = pd.read_csv(\"fashion-mnist_train.csv\")\n",
    "data.head()"
   ]
  },
  {
   "cell_type": "code",
   "execution_count": 5,
   "metadata": {
    "colab": {
     "base_uri": "https://localhost:8080/",
     "height": 34
    },
    "colab_type": "code",
    "id": "kwPgAHgzVvwr",
    "outputId": "2fcd24f8-f539-4033-d279-c8baf4504c9e"
   },
   "outputs": [
    {
     "data": {
      "text/plain": [
       "(60000, 785)"
      ]
     },
     "execution_count": 5,
     "metadata": {},
     "output_type": "execute_result"
    }
   ],
   "source": [
    "data.shape"
   ]
  },
  {
   "cell_type": "code",
   "execution_count": 6,
   "metadata": {
    "colab": {
     "base_uri": "https://localhost:8080/",
     "height": 244
    },
    "colab_type": "code",
    "id": "W8dJGkNtyoBf",
    "outputId": "1365e6c2-8163-440d-8c2d-bc429fe0101b"
   },
   "outputs": [],
   "source": [
    "X = data.iloc[:,1:]\n",
    "y = data[['label']]"
   ]
  },
  {
   "cell_type": "markdown",
   "metadata": {},
   "source": [
    "# Splitting the Data into Train and Validation"
   ]
  },
  {
   "cell_type": "code",
   "execution_count": 7,
   "metadata": {},
   "outputs": [],
   "source": [
    "X_train, X_valid, y_train, y_valid = train_test_split(X, y, test_size = 0.15, random_state = 42, shuffle = True)"
   ]
  },
  {
   "cell_type": "code",
   "execution_count": 8,
   "metadata": {},
   "outputs": [
    {
     "name": "stdout",
     "output_type": "stream",
     "text": [
      "X_train :  (51000, 784)\n",
      "y_train :  (51000, 1)\n",
      "X_valid :  (9000, 784)\n",
      "y_valid :  (9000, 1)\n"
     ]
    }
   ],
   "source": [
    "print(\"X_train : \", X_train.shape)\n",
    "print(\"y_train : \", y_train.shape)\n",
    "print(\"X_valid : \", X_valid.shape)\n",
    "print(\"y_valid : \", y_valid.shape)"
   ]
  },
  {
   "cell_type": "markdown",
   "metadata": {
    "colab_type": "text",
    "id": "Cs3cH9D5d2dg"
   },
   "source": [
    "# Reshaping the Train and Validation Data"
   ]
  },
  {
   "cell_type": "markdown",
   "metadata": {},
   "source": [
    "**The Images have 784 pixels, that is, 28x28 pixels and 1 channel(greyscale).**"
   ]
  },
  {
   "cell_type": "code",
   "execution_count": 9,
   "metadata": {},
   "outputs": [],
   "source": [
    "X_train = X_train.to_numpy().reshape(-1, 28, 28, 1)  \n",
    "y_train = y_train.to_numpy()"
   ]
  },
  {
   "cell_type": "code",
   "execution_count": 10,
   "metadata": {},
   "outputs": [],
   "source": [
    "X_valid = X_valid.to_numpy().reshape(-1, 28, 28, 1)\n",
    "y_valid = y_valid.to_numpy()"
   ]
  },
  {
   "cell_type": "code",
   "execution_count": 11,
   "metadata": {},
   "outputs": [
    {
     "name": "stdout",
     "output_type": "stream",
     "text": [
      "X_train :  (51000, 28, 28, 1)\n",
      "y_train :  (51000, 1)\n",
      "X_valid :  (9000, 28, 28, 1)\n",
      "y_valid :  (9000, 1)\n"
     ]
    }
   ],
   "source": [
    "print(\"X_train : \", X_train.shape)\n",
    "print(\"y_train : \", y_train.shape)\n",
    "print(\"X_valid : \", X_valid.shape)\n",
    "print(\"y_valid : \", y_valid.shape)"
   ]
  },
  {
   "cell_type": "code",
   "execution_count": 12,
   "metadata": {},
   "outputs": [
    {
     "data": {
      "text/plain": [
       "array([0, 1, 2, 3, 4, 5, 6, 7, 8, 9], dtype=int64)"
      ]
     },
     "execution_count": 12,
     "metadata": {},
     "output_type": "execute_result"
    }
   ],
   "source": [
    "np.unique(y_train)"
   ]
  },
  {
   "cell_type": "code",
   "execution_count": 13,
   "metadata": {},
   "outputs": [
    {
     "data": {
      "text/plain": [
       "array([0, 1, 2, 3, 4, 5, 6, 7, 8, 9], dtype=int64)"
      ]
     },
     "execution_count": 13,
     "metadata": {},
     "output_type": "execute_result"
    }
   ],
   "source": [
    "np.unique(y_valid)"
   ]
  },
  {
   "cell_type": "markdown",
   "metadata": {
    "colab_type": "text",
    "id": "RMMlnJ-8erQE"
   },
   "source": [
    "# Displaying 10 random examples"
   ]
  },
  {
   "cell_type": "code",
   "execution_count": 14,
   "metadata": {},
   "outputs": [
    {
     "data": {
      "image/png": "[encoded data removed]",
      "text/plain": [
       "<Figure size 1440x720 with 10 Axes>"
      ]
     },
     "metadata": {
      "needs_background": "light"
     },
     "output_type": "display_data"
    }
   ],
   "source": [
    "fig = plt.figure(figsize = (20,10))\n",
    "for j,i in enumerate(range(0,10)):\n",
    "    plt.subplot(2,5,j+1)\n",
    "    plt.imshow(X_train[i].reshape(28, 28), cmap = 'Greys')    \n",
    "plt.show()"
   ]
  },
  {
   "cell_type": "markdown",
   "metadata": {
    "colab_type": "text",
    "id": "qp9aQ9xYe6zz"
   },
   "source": [
    "# Creating the Convolutional Neural Network"
   ]
  },
  {
   "cell_type": "code",
   "execution_count": 15,
   "metadata": {},
   "outputs": [],
   "source": [
    "model = Sequential()\n",
    "\n",
    "model.add(Conv2D(32, kernel_size = 3, padding = 'same', input_shape = (28, 28, 1)))\n",
    "model.add(BatchNormalization())\n",
    "model.add(Activation('relu'))\n",
    "          \n",
    "model.add(Conv2D(128, kernel_size = 3, padding = 'same'))\n",
    "model.add(BatchNormalization())\n",
    "model.add(Activation('relu'))\n",
    "\n",
    "model.add(MaxPooling2D(pool_size = (2,2), strides = (2,2)))\n",
    "\n",
    "model.add(Conv2D(128, kernel_size = 3, padding = 'same'))\n",
    "model.add(BatchNormalization())\n",
    "model.add(Activation('relu'))\n",
    "\n",
    "model.add(Conv2D(10, kernel_size = 3, padding = 'same'))\n",
    "model.add(BatchNormalization())\n",
    "model.add(Activation('relu'))\n",
    "\n",
    "model.add(GlobalAveragePooling2D())\n",
    "model.add(Activation('softmax'))"
   ]
  },
  {
   "cell_type": "markdown",
   "metadata": {},
   "source": [
    "**I have used Global Average Pooling instead of Fully Connected Layers at the end to tackle overfitting.**"
   ]
  },
  {
   "cell_type": "code",
   "execution_count": 16,
   "metadata": {},
   "outputs": [
    {
     "name": "stdout",
     "output_type": "stream",
     "text": [
      "Model: \"sequential\"\n",
      "_________________________________________________________________\n",
      "Layer (type)                 Output Shape              Param #   \n",
      "=================================================================\n",
      "conv2d (Conv2D)              (None, 28, 28, 32)        320       \n",
      "_________________________________________________________________\n",
      "batch_normalization (BatchNo (None, 28, 28, 32)        128       \n",
      "_________________________________________________________________\n",
      "activation (Activation)      (None, 28, 28, 32)        0         \n",
      "_________________________________________________________________\n",
      "conv2d_1 (Conv2D)            (None, 28, 28, 128)       36992     \n",
      "_________________________________________________________________\n",
      "batch_normalization_1 (Batch (None, 28, 28, 128)       512       \n",
      "_________________________________________________________________\n",
      "activation_1 (Activation)    (None, 28, 28, 128)       0         \n",
      "_________________________________________________________________\n",
      "max_pooling2d (MaxPooling2D) (None, 14, 14, 128)       0         \n",
      "_________________________________________________________________\n",
      "conv2d_2 (Conv2D)            (None, 14, 14, 128)       147584    \n",
      "_________________________________________________________________\n",
      "batch_normalization_2 (Batch (None, 14, 14, 128)       512       \n",
      "_________________________________________________________________\n",
      "activation_2 (Activation)    (None, 14, 14, 128)       0         \n",
      "_________________________________________________________________\n",
      "conv2d_3 (Conv2D)            (None, 14, 14, 10)        11530     \n",
      "_________________________________________________________________\n",
      "batch_normalization_3 (Batch (None, 14, 14, 10)        40        \n",
      "_________________________________________________________________\n",
      "activation_3 (Activation)    (None, 14, 14, 10)        0         \n",
      "_________________________________________________________________\n",
      "global_average_pooling2d (Gl (None, 10)                0         \n",
      "_________________________________________________________________\n",
      "activation_4 (Activation)    (None, 10)                0         \n",
      "=================================================================\n",
      "Total params: 197,618\n",
      "Trainable params: 197,022\n",
      "Non-trainable params: 596\n",
      "_________________________________________________________________\n"
     ]
    }
   ],
   "source": [
    "model.summary()"
   ]
  },
  {
   "cell_type": "markdown",
   "metadata": {},
   "source": [
    "# Creating the Train and Test Image Generators"
   ]
  },
  {
   "cell_type": "code",
   "execution_count": 17,
   "metadata": {},
   "outputs": [],
   "source": [
    "train_datagen = ImageDataGenerator(rotation_range = 5,\n",
    "                                   width_shift_range = 0.1,\n",
    "                                   height_shift_range = 0.1,\n",
    "                                   shear_range = 0.1,\n",
    "                                   zoom_range = 0.1,\n",
    "                                   rescale = (1./255)) \n",
    "\n",
    "valid_datagen = ImageDataGenerator(rescale = 1./255)"
   ]
  },
  {
   "cell_type": "code",
   "execution_count": 18,
   "metadata": {},
   "outputs": [],
   "source": [
    "train_generator = train_datagen.flow(X_train, y_train, batch_size = 1024, shuffle = True)\n",
    "validation_generator = valid_datagen.flow(X_valid, y_valid, batch_size = 1024, shuffle = True)"
   ]
  },
  {
   "cell_type": "markdown",
   "metadata": {},
   "source": [
    "# Compiling and Fitting the Model"
   ]
  },
  {
   "cell_type": "code",
   "execution_count": 19,
   "metadata": {},
   "outputs": [
    {
     "name": "stderr",
     "output_type": "stream",
     "text": [
      "WARNING: Logging before flag parsing goes to stderr.\n",
      "W0913 10:58:03.906973  6020 callbacks.py:859] `period` argument is deprecated. Please use `save_freq` to specify the frequency in number of samples seen.\n"
     ]
    }
   ],
   "source": [
    "checkpoint = ModelCheckpoint('model.h5', monitor = 'val_accuracy', verbose = 0, save_best_only = True, save_weights_only = False, mode = 'max', period = 1)"
   ]
  },
  {
   "cell_type": "code",
   "execution_count": 20,
   "metadata": {
    "colab": {},
    "colab_type": "code",
    "id": "ki-HliXtgURN"
   },
   "outputs": [],
   "source": [
    "optim = tf.keras.optimizers.Adam(lr = 0.0001)\n",
    "model.compile(optimizer = optim, loss = 'sparse_categorical_crossentropy', metrics = ['accuracy'])"
   ]
  },
  {
   "cell_type": "code",
   "execution_count": 21,
   "metadata": {},
   "outputs": [
    {
     "name": "stdout",
     "output_type": "stream",
     "text": [
      "Epoch 1/500\n"
     ]
    },
    {
     "name": "stderr",
     "output_type": "stream",
     "text": [
      "W0913 10:58:04.169035  6020 deprecation.py:323] From C:\\Users\\RAJDEEP\\Anaconda\\Anaconda3\\lib\\site-packages\\tensorflow\\python\\ops\\math_grad.py:1250: add_dispatch_support.<locals>.wrapper (from tensorflow.python.ops.array_ops) is deprecated and will be removed in a future version.\n",
      "Instructions for updating:\n",
      "Use tf.where in 2.0, which has the same broadcast rule as np.where\n"
     ]
    },
    {
     "name": "stdout",
     "output_type": "stream",
     "text": [
      "50/50 - 16s - loss: 1.9516 - accuracy: 0.5068 - val_loss: 2.3012 - val_accuracy: 0.1080\n",
      "Epoch 2/500\n",
      "50/50 - 11s - loss: 1.7102 - accuracy: 0.6466 - val_loss: 2.3732 - val_accuracy: 0.1123\n",
      "Epoch 3/500\n",
      "50/50 - 11s - loss: 1.5812 - accuracy: 0.7057 - val_loss: 2.4994 - val_accuracy: 0.1149\n",
      "Epoch 4/500\n",
      "50/50 - 11s - loss: 1.4938 - accuracy: 0.7333 - val_loss: 2.6026 - val_accuracy: 0.1483\n",
      "Epoch 5/500\n",
      "50/50 - 11s - loss: 1.4313 - accuracy: 0.7475 - val_loss: 2.6203 - val_accuracy: 0.1718\n",
      "Epoch 6/500\n",
      "50/50 - 11s - loss: 1.3874 - accuracy: 0.7557 - val_loss: 2.5750 - val_accuracy: 0.1574\n",
      "Epoch 7/500\n",
      "50/50 - 12s - loss: 1.3526 - accuracy: 0.7632 - val_loss: 2.4017 - val_accuracy: 0.1694\n",
      "Epoch 8/500\n",
      "50/50 - 11s - loss: 1.3246 - accuracy: 0.7663 - val_loss: 2.2040 - val_accuracy: 0.1628\n",
      "Epoch 9/500\n",
      "50/50 - 11s - loss: 1.2999 - accuracy: 0.7720 - val_loss: 1.9695 - val_accuracy: 0.2518\n",
      "Epoch 10/500\n",
      "50/50 - 11s - loss: 1.2788 - accuracy: 0.7757 - val_loss: 1.7887 - val_accuracy: 0.3819\n",
      "Epoch 11/500\n",
      "50/50 - 11s - loss: 1.2593 - accuracy: 0.7782 - val_loss: 1.5702 - val_accuracy: 0.5676\n",
      "Epoch 12/500\n",
      "50/50 - 12s - loss: 1.2419 - accuracy: 0.7814 - val_loss: 1.4241 - val_accuracy: 0.6584\n",
      "Epoch 13/500\n",
      "50/50 - 11s - loss: 1.2244 - accuracy: 0.7858 - val_loss: 1.3066 - val_accuracy: 0.7248\n",
      "Epoch 14/500\n",
      "50/50 - 11s - loss: 1.2112 - accuracy: 0.7872 - val_loss: 1.2312 - val_accuracy: 0.7483\n",
      "Epoch 15/500\n",
      "50/50 - 11s - loss: 1.1973 - accuracy: 0.7901 - val_loss: 1.1840 - val_accuracy: 0.7667\n",
      "Epoch 16/500\n",
      "50/50 - 12s - loss: 1.1846 - accuracy: 0.7918 - val_loss: 1.1404 - val_accuracy: 0.7841\n",
      "Epoch 17/500\n",
      "50/50 - 11s - loss: 1.1709 - accuracy: 0.7925 - val_loss: 1.1247 - val_accuracy: 0.7819\n",
      "Epoch 18/500\n",
      "50/50 - 11s - loss: 1.1590 - accuracy: 0.7952 - val_loss: 1.1056 - val_accuracy: 0.7892\n",
      "Epoch 19/500\n",
      "50/50 - 11s - loss: 1.1471 - accuracy: 0.7966 - val_loss: 1.0886 - val_accuracy: 0.7893\n",
      "Epoch 20/500\n",
      "50/50 - 11s - loss: 1.1367 - accuracy: 0.7990 - val_loss: 1.0719 - val_accuracy: 0.7868\n",
      "Epoch 21/500\n",
      "50/50 - 11s - loss: 1.1263 - accuracy: 0.7992 - val_loss: 1.0635 - val_accuracy: 0.7909\n",
      "Epoch 22/500\n",
      "50/50 - 11s - loss: 1.1156 - accuracy: 0.8036 - val_loss: 1.0682 - val_accuracy: 0.7809\n",
      "Epoch 23/500\n",
      "50/50 - 11s - loss: 1.1057 - accuracy: 0.8053 - val_loss: 1.0489 - val_accuracy: 0.7859\n",
      "Epoch 24/500\n",
      "50/50 - 11s - loss: 1.0952 - accuracy: 0.8063 - val_loss: 1.0491 - val_accuracy: 0.7876\n",
      "Epoch 25/500\n",
      "50/50 - 11s - loss: 1.0870 - accuracy: 0.8081 - val_loss: 1.0371 - val_accuracy: 0.7938\n",
      "Epoch 26/500\n",
      "50/50 - 11s - loss: 1.0787 - accuracy: 0.8085 - val_loss: 1.0164 - val_accuracy: 0.7923\n",
      "Epoch 27/500\n",
      "50/50 - 11s - loss: 1.0689 - accuracy: 0.8110 - val_loss: 1.0153 - val_accuracy: 0.7946\n",
      "Epoch 28/500\n",
      "50/50 - 11s - loss: 1.0626 - accuracy: 0.8105 - val_loss: 1.0026 - val_accuracy: 0.8061\n",
      "Epoch 29/500\n",
      "50/50 - 11s - loss: 1.0525 - accuracy: 0.8125 - val_loss: 1.0145 - val_accuracy: 0.7852\n",
      "Epoch 30/500\n",
      "50/50 - 11s - loss: 1.0445 - accuracy: 0.8152 - val_loss: 0.9919 - val_accuracy: 0.8079\n",
      "Epoch 31/500\n",
      "50/50 - 11s - loss: 1.0375 - accuracy: 0.8154 - val_loss: 0.9953 - val_accuracy: 0.7912\n",
      "Epoch 32/500\n",
      "50/50 - 11s - loss: 1.0286 - accuracy: 0.8162 - val_loss: 0.9833 - val_accuracy: 0.8006\n",
      "Epoch 33/500\n",
      "50/50 - 11s - loss: 1.0215 - accuracy: 0.8170 - val_loss: 0.9740 - val_accuracy: 0.8053\n",
      "Epoch 34/500\n",
      "50/50 - 11s - loss: 1.0150 - accuracy: 0.8177 - val_loss: 0.9625 - val_accuracy: 0.8078\n",
      "Epoch 35/500\n",
      "50/50 - 11s - loss: 1.0081 - accuracy: 0.8204 - val_loss: 0.9835 - val_accuracy: 0.7920\n",
      "Epoch 36/500\n",
      "50/50 - 11s - loss: 1.0006 - accuracy: 0.8208 - val_loss: 0.9661 - val_accuracy: 0.7934\n",
      "Epoch 37/500\n",
      "50/50 - 11s - loss: 0.9947 - accuracy: 0.8195 - val_loss: 0.9560 - val_accuracy: 0.7937\n",
      "Epoch 38/500\n",
      "50/50 - 11s - loss: 0.9859 - accuracy: 0.8213 - val_loss: 0.9491 - val_accuracy: 0.7966\n",
      "Epoch 39/500\n",
      "50/50 - 11s - loss: 0.9787 - accuracy: 0.8229 - val_loss: 0.9321 - val_accuracy: 0.8153\n",
      "Epoch 40/500\n",
      "50/50 - 11s - loss: 0.9735 - accuracy: 0.8252 - val_loss: 0.9241 - val_accuracy: 0.8143\n",
      "Epoch 41/500\n",
      "50/50 - 11s - loss: 0.9661 - accuracy: 0.8261 - val_loss: 0.9210 - val_accuracy: 0.8126\n",
      "Epoch 42/500\n",
      "50/50 - 11s - loss: 0.9618 - accuracy: 0.8271 - val_loss: 0.9064 - val_accuracy: 0.8121\n",
      "Epoch 43/500\n",
      "50/50 - 11s - loss: 0.9525 - accuracy: 0.8280 - val_loss: 0.9211 - val_accuracy: 0.8123\n",
      "Epoch 44/500\n",
      "50/50 - 11s - loss: 0.9473 - accuracy: 0.8273 - val_loss: 0.8944 - val_accuracy: 0.8213\n",
      "Epoch 45/500\n",
      "50/50 - 11s - loss: 0.9435 - accuracy: 0.8285 - val_loss: 0.8945 - val_accuracy: 0.8153\n",
      "Epoch 46/500\n",
      "50/50 - 11s - loss: 0.9368 - accuracy: 0.8291 - val_loss: 0.8839 - val_accuracy: 0.8257\n",
      "Epoch 47/500\n",
      "50/50 - 11s - loss: 0.9303 - accuracy: 0.8316 - val_loss: 0.8745 - val_accuracy: 0.8316\n",
      "Epoch 48/500\n",
      "50/50 - 11s - loss: 0.9251 - accuracy: 0.8300 - val_loss: 0.8779 - val_accuracy: 0.8202\n",
      "Epoch 49/500\n",
      "50/50 - 11s - loss: 0.9185 - accuracy: 0.8317 - val_loss: 0.8617 - val_accuracy: 0.8228\n",
      "Epoch 50/500\n",
      "50/50 - 11s - loss: 0.9152 - accuracy: 0.8321 - val_loss: 0.8613 - val_accuracy: 0.8239\n",
      "Epoch 51/500\n",
      "50/50 - 11s - loss: 0.9075 - accuracy: 0.8349 - val_loss: 0.8667 - val_accuracy: 0.8091\n",
      "Epoch 52/500\n",
      "50/50 - 11s - loss: 0.9028 - accuracy: 0.8332 - val_loss: 0.8405 - val_accuracy: 0.8349\n",
      "Epoch 53/500\n",
      "50/50 - 11s - loss: 0.8987 - accuracy: 0.8347 - val_loss: 0.8441 - val_accuracy: 0.8241\n",
      "Epoch 54/500\n",
      "50/50 - 11s - loss: 0.8943 - accuracy: 0.8347 - val_loss: 0.8439 - val_accuracy: 0.8294\n",
      "Epoch 55/500\n",
      "50/50 - 11s - loss: 0.8880 - accuracy: 0.8364 - val_loss: 0.8385 - val_accuracy: 0.8268\n",
      "Epoch 56/500\n",
      "50/50 - 11s - loss: 0.8814 - accuracy: 0.8371 - val_loss: 0.8214 - val_accuracy: 0.8364\n",
      "Epoch 57/500\n",
      "50/50 - 11s - loss: 0.8764 - accuracy: 0.8379 - val_loss: 0.8530 - val_accuracy: 0.8104\n",
      "Epoch 58/500\n",
      "50/50 - 11s - loss: 0.8724 - accuracy: 0.8368 - val_loss: 0.8297 - val_accuracy: 0.8206\n",
      "Epoch 59/500\n",
      "50/50 - 11s - loss: 0.8679 - accuracy: 0.8383 - val_loss: 0.8148 - val_accuracy: 0.8257\n",
      "Epoch 60/500\n",
      "50/50 - 11s - loss: 0.8624 - accuracy: 0.8394 - val_loss: 0.8040 - val_accuracy: 0.8331\n",
      "Epoch 61/500\n",
      "50/50 - 11s - loss: 0.8598 - accuracy: 0.8403 - val_loss: 0.8205 - val_accuracy: 0.8244\n",
      "Epoch 62/500\n",
      "50/50 - 11s - loss: 0.8517 - accuracy: 0.8405 - val_loss: 0.8032 - val_accuracy: 0.8346\n",
      "Epoch 63/500\n",
      "50/50 - 11s - loss: 0.8474 - accuracy: 0.8409 - val_loss: 0.7997 - val_accuracy: 0.8249\n",
      "Epoch 64/500\n",
      "50/50 - 12s - loss: 0.8438 - accuracy: 0.8404 - val_loss: 0.7881 - val_accuracy: 0.8384\n",
      "Epoch 65/500\n",
      "50/50 - 11s - loss: 0.8388 - accuracy: 0.8422 - val_loss: 0.7905 - val_accuracy: 0.8364\n",
      "Epoch 66/500\n",
      "50/50 - 11s - loss: 0.8341 - accuracy: 0.8445 - val_loss: 0.7813 - val_accuracy: 0.8331\n",
      "Epoch 67/500\n",
      "50/50 - 11s - loss: 0.8286 - accuracy: 0.8441 - val_loss: 0.8208 - val_accuracy: 0.8034\n",
      "Epoch 68/500\n",
      "50/50 - 11s - loss: 0.8262 - accuracy: 0.8433 - val_loss: 0.7916 - val_accuracy: 0.8222\n",
      "Epoch 69/500\n",
      "50/50 - 11s - loss: 0.8217 - accuracy: 0.8441 - val_loss: 0.7967 - val_accuracy: 0.8136\n",
      "Epoch 70/500\n",
      "50/50 - 12s - loss: 0.8170 - accuracy: 0.8449 - val_loss: 0.7891 - val_accuracy: 0.8176\n",
      "Epoch 71/500\n",
      "50/50 - 12s - loss: 0.8127 - accuracy: 0.8461 - val_loss: 0.7540 - val_accuracy: 0.8436\n",
      "Epoch 72/500\n",
      "50/50 - 12s - loss: 0.8085 - accuracy: 0.8450 - val_loss: 0.7711 - val_accuracy: 0.8448\n",
      "Epoch 73/500\n",
      "50/50 - 11s - loss: 0.8040 - accuracy: 0.8471 - val_loss: 0.7584 - val_accuracy: 0.8406\n",
      "Epoch 74/500\n",
      "50/50 - 12s - loss: 0.8009 - accuracy: 0.8465 - val_loss: 0.7433 - val_accuracy: 0.8519\n",
      "Epoch 75/500\n",
      "50/50 - 11s - loss: 0.7978 - accuracy: 0.8464 - val_loss: 0.7645 - val_accuracy: 0.8220\n",
      "Epoch 76/500\n",
      "50/50 - 12s - loss: 0.7906 - accuracy: 0.8487 - val_loss: 0.7466 - val_accuracy: 0.8471\n",
      "Epoch 77/500\n",
      "50/50 - 11s - loss: 0.7876 - accuracy: 0.8488 - val_loss: 0.7298 - val_accuracy: 0.8462\n",
      "Epoch 78/500\n",
      "50/50 - 11s - loss: 0.7840 - accuracy: 0.8493 - val_loss: 0.7403 - val_accuracy: 0.8493\n",
      "Epoch 79/500\n",
      "50/50 - 12s - loss: 0.7787 - accuracy: 0.8495 - val_loss: 0.7475 - val_accuracy: 0.8349\n",
      "Epoch 80/500\n",
      "50/50 - 12s - loss: 0.7787 - accuracy: 0.8486 - val_loss: 0.7649 - val_accuracy: 0.8087\n",
      "Epoch 81/500\n",
      "50/50 - 11s - loss: 0.7723 - accuracy: 0.8502 - val_loss: 0.7361 - val_accuracy: 0.8426\n",
      "Epoch 82/500\n",
      "50/50 - 12s - loss: 0.7679 - accuracy: 0.8509 - val_loss: 0.7283 - val_accuracy: 0.8393\n"
     ]
    },
    {
     "name": "stdout",
     "output_type": "stream",
     "text": [
      "Epoch 83/500\n",
      "50/50 - 12s - loss: 0.7652 - accuracy: 0.8513 - val_loss: 0.7314 - val_accuracy: 0.8454\n",
      "Epoch 84/500\n",
      "50/50 - 12s - loss: 0.7619 - accuracy: 0.8512 - val_loss: 0.7222 - val_accuracy: 0.8410\n",
      "Epoch 85/500\n",
      "50/50 - 12s - loss: 0.7570 - accuracy: 0.8511 - val_loss: 0.7210 - val_accuracy: 0.8353\n",
      "Epoch 86/500\n",
      "50/50 - 12s - loss: 0.7527 - accuracy: 0.8527 - val_loss: 0.7141 - val_accuracy: 0.8502\n",
      "Epoch 87/500\n",
      "50/50 - 11s - loss: 0.7496 - accuracy: 0.8521 - val_loss: 0.7410 - val_accuracy: 0.8207\n",
      "Epoch 88/500\n",
      "50/50 - 12s - loss: 0.7455 - accuracy: 0.8529 - val_loss: 0.7083 - val_accuracy: 0.8448\n",
      "Epoch 89/500\n",
      "50/50 - 11s - loss: 0.7419 - accuracy: 0.8541 - val_loss: 0.7005 - val_accuracy: 0.8519\n",
      "Epoch 90/500\n",
      "50/50 - 12s - loss: 0.7386 - accuracy: 0.8539 - val_loss: 0.6821 - val_accuracy: 0.8604\n",
      "Epoch 91/500\n",
      "50/50 - 12s - loss: 0.7366 - accuracy: 0.8543 - val_loss: 0.6896 - val_accuracy: 0.8492\n",
      "Epoch 92/500\n",
      "50/50 - 12s - loss: 0.7313 - accuracy: 0.8553 - val_loss: 0.6810 - val_accuracy: 0.8501\n",
      "Epoch 93/500\n",
      "50/50 - 12s - loss: 0.7270 - accuracy: 0.8555 - val_loss: 0.6895 - val_accuracy: 0.8520\n",
      "Epoch 94/500\n",
      "50/50 - 12s - loss: 0.7242 - accuracy: 0.8554 - val_loss: 0.6746 - val_accuracy: 0.8573\n",
      "Epoch 95/500\n",
      "50/50 - 12s - loss: 0.7221 - accuracy: 0.8569 - val_loss: 0.6802 - val_accuracy: 0.8542\n",
      "Epoch 96/500\n",
      "50/50 - 11s - loss: 0.7177 - accuracy: 0.8555 - val_loss: 0.6855 - val_accuracy: 0.8494\n",
      "Epoch 97/500\n",
      "50/50 - 12s - loss: 0.7172 - accuracy: 0.8563 - val_loss: 0.6732 - val_accuracy: 0.8506\n",
      "Epoch 98/500\n",
      "50/50 - 12s - loss: 0.7121 - accuracy: 0.8576 - val_loss: 0.7051 - val_accuracy: 0.8306\n",
      "Epoch 99/500\n",
      "50/50 - 11s - loss: 0.7081 - accuracy: 0.8584 - val_loss: 0.6829 - val_accuracy: 0.8498\n",
      "Epoch 100/500\n",
      "50/50 - 11s - loss: 0.7041 - accuracy: 0.8574 - val_loss: 0.6691 - val_accuracy: 0.8571\n",
      "Epoch 101/500\n",
      "50/50 - 11s - loss: 0.7009 - accuracy: 0.8586 - val_loss: 0.6530 - val_accuracy: 0.8596\n",
      "Epoch 102/500\n",
      "50/50 - 11s - loss: 0.6984 - accuracy: 0.8592 - val_loss: 0.6738 - val_accuracy: 0.8386\n",
      "Epoch 103/500\n",
      "50/50 - 12s - loss: 0.6964 - accuracy: 0.8595 - val_loss: 0.6480 - val_accuracy: 0.8572\n",
      "Epoch 104/500\n",
      "50/50 - 12s - loss: 0.6920 - accuracy: 0.8605 - val_loss: 0.6609 - val_accuracy: 0.8509\n",
      "Epoch 105/500\n",
      "50/50 - 11s - loss: 0.6887 - accuracy: 0.8620 - val_loss: 0.6477 - val_accuracy: 0.8530\n",
      "Epoch 106/500\n",
      "50/50 - 11s - loss: 0.6841 - accuracy: 0.8607 - val_loss: 0.6435 - val_accuracy: 0.8517\n",
      "Epoch 107/500\n",
      "50/50 - 11s - loss: 0.6827 - accuracy: 0.8614 - val_loss: 0.6373 - val_accuracy: 0.8539\n",
      "Epoch 108/500\n",
      "50/50 - 11s - loss: 0.6818 - accuracy: 0.8617 - val_loss: 0.6389 - val_accuracy: 0.8508\n",
      "Epoch 109/500\n",
      "50/50 - 11s - loss: 0.6761 - accuracy: 0.8613 - val_loss: 0.6330 - val_accuracy: 0.8556\n",
      "Epoch 110/500\n",
      "50/50 - 11s - loss: 0.6729 - accuracy: 0.8621 - val_loss: 0.6565 - val_accuracy: 0.8393\n",
      "Epoch 111/500\n",
      "50/50 - 11s - loss: 0.6703 - accuracy: 0.8641 - val_loss: 0.6935 - val_accuracy: 0.8126\n",
      "Epoch 112/500\n",
      "50/50 - 12s - loss: 0.6682 - accuracy: 0.8618 - val_loss: 0.6254 - val_accuracy: 0.8572\n",
      "Epoch 113/500\n",
      "50/50 - 11s - loss: 0.6658 - accuracy: 0.8624 - val_loss: 0.6255 - val_accuracy: 0.8587\n",
      "Epoch 114/500\n",
      "50/50 - 12s - loss: 0.6627 - accuracy: 0.8629 - val_loss: 0.6344 - val_accuracy: 0.8538\n",
      "Epoch 115/500\n",
      "50/50 - 11s - loss: 0.6604 - accuracy: 0.8643 - val_loss: 0.6324 - val_accuracy: 0.8510\n",
      "Epoch 116/500\n",
      "50/50 - 11s - loss: 0.6566 - accuracy: 0.8648 - val_loss: 0.6489 - val_accuracy: 0.8489\n",
      "Epoch 117/500\n",
      "50/50 - 11s - loss: 0.6540 - accuracy: 0.8641 - val_loss: 0.6810 - val_accuracy: 0.8231\n",
      "Epoch 118/500\n",
      "50/50 - 11s - loss: 0.6513 - accuracy: 0.8651 - val_loss: 0.6278 - val_accuracy: 0.8464\n",
      "Epoch 119/500\n",
      "50/50 - 11s - loss: 0.6495 - accuracy: 0.8636 - val_loss: 0.6347 - val_accuracy: 0.8441\n",
      "Epoch 120/500\n",
      "50/50 - 11s - loss: 0.6452 - accuracy: 0.8649 - val_loss: 0.6282 - val_accuracy: 0.8496\n",
      "Epoch 121/500\n",
      "50/50 - 11s - loss: 0.6433 - accuracy: 0.8640 - val_loss: 0.6148 - val_accuracy: 0.8530\n",
      "Epoch 122/500\n",
      "50/50 - 11s - loss: 0.6405 - accuracy: 0.8655 - val_loss: 0.6208 - val_accuracy: 0.8463\n",
      "Epoch 123/500\n",
      "50/50 - 11s - loss: 0.6383 - accuracy: 0.8665 - val_loss: 0.6461 - val_accuracy: 0.8313\n",
      "Epoch 124/500\n",
      "50/50 - 12s - loss: 0.6331 - accuracy: 0.8670 - val_loss: 0.6057 - val_accuracy: 0.8504\n",
      "Epoch 125/500\n",
      "50/50 - 11s - loss: 0.6332 - accuracy: 0.8654 - val_loss: 0.6280 - val_accuracy: 0.8426\n",
      "Epoch 126/500\n",
      "50/50 - 12s - loss: 0.6294 - accuracy: 0.8680 - val_loss: 0.5938 - val_accuracy: 0.8678\n",
      "Epoch 127/500\n",
      "50/50 - 12s - loss: 0.6275 - accuracy: 0.8676 - val_loss: 0.5908 - val_accuracy: 0.8607\n",
      "Epoch 128/500\n",
      "50/50 - 12s - loss: 0.6260 - accuracy: 0.8670 - val_loss: 0.6001 - val_accuracy: 0.8522\n",
      "Epoch 129/500\n",
      "50/50 - 11s - loss: 0.6226 - accuracy: 0.8694 - val_loss: 0.6092 - val_accuracy: 0.8518\n",
      "Epoch 130/500\n",
      "50/50 - 12s - loss: 0.6197 - accuracy: 0.8682 - val_loss: 0.5850 - val_accuracy: 0.8649\n",
      "Epoch 131/500\n",
      "50/50 - 11s - loss: 0.6181 - accuracy: 0.8677 - val_loss: 0.5802 - val_accuracy: 0.8579\n",
      "Epoch 132/500\n",
      "50/50 - 12s - loss: 0.6136 - accuracy: 0.8683 - val_loss: 0.5797 - val_accuracy: 0.8602\n",
      "Epoch 133/500\n",
      "50/50 - 12s - loss: 0.6108 - accuracy: 0.8699 - val_loss: 0.5835 - val_accuracy: 0.8688\n",
      "Epoch 134/500\n",
      "50/50 - 11s - loss: 0.6101 - accuracy: 0.8692 - val_loss: 0.5654 - val_accuracy: 0.8718\n",
      "Epoch 135/500\n",
      "50/50 - 12s - loss: 0.6096 - accuracy: 0.8674 - val_loss: 0.5838 - val_accuracy: 0.8591\n",
      "Epoch 136/500\n",
      "50/50 - 12s - loss: 0.6075 - accuracy: 0.8692 - val_loss: 0.5687 - val_accuracy: 0.8686\n",
      "Epoch 137/500\n",
      "50/50 - 12s - loss: 0.6020 - accuracy: 0.8706 - val_loss: 0.5692 - val_accuracy: 0.8652\n",
      "Epoch 138/500\n",
      "50/50 - 11s - loss: 0.5983 - accuracy: 0.8706 - val_loss: 0.5878 - val_accuracy: 0.8616\n",
      "Epoch 139/500\n",
      "50/50 - 11s - loss: 0.5953 - accuracy: 0.8737 - val_loss: 0.5796 - val_accuracy: 0.8594\n",
      "Epoch 140/500\n",
      "50/50 - 12s - loss: 0.5952 - accuracy: 0.8718 - val_loss: 0.5839 - val_accuracy: 0.8546\n",
      "Epoch 141/500\n",
      "50/50 - 12s - loss: 0.5922 - accuracy: 0.8714 - val_loss: 0.5966 - val_accuracy: 0.8428\n",
      "Epoch 142/500\n",
      "50/50 - 12s - loss: 0.5891 - accuracy: 0.8727 - val_loss: 0.5677 - val_accuracy: 0.8590\n",
      "Epoch 143/500\n",
      "50/50 - 12s - loss: 0.5882 - accuracy: 0.8719 - val_loss: 0.5927 - val_accuracy: 0.8420\n",
      "Epoch 144/500\n",
      "50/50 - 11s - loss: 0.5882 - accuracy: 0.8715 - val_loss: 0.5994 - val_accuracy: 0.8399\n",
      "Epoch 145/500\n",
      "50/50 - 11s - loss: 0.5828 - accuracy: 0.8727 - val_loss: 0.5611 - val_accuracy: 0.8572\n",
      "Epoch 146/500\n",
      "50/50 - 11s - loss: 0.5804 - accuracy: 0.8734 - val_loss: 0.5647 - val_accuracy: 0.8533\n",
      "Epoch 147/500\n",
      "50/50 - 11s - loss: 0.5804 - accuracy: 0.8733 - val_loss: 0.5591 - val_accuracy: 0.8596\n",
      "Epoch 148/500\n",
      "50/50 - 11s - loss: 0.5784 - accuracy: 0.8720 - val_loss: 0.6038 - val_accuracy: 0.8304\n",
      "Epoch 149/500\n",
      "50/50 - 11s - loss: 0.5743 - accuracy: 0.8748 - val_loss: 0.5537 - val_accuracy: 0.8572\n",
      "Epoch 150/500\n",
      "50/50 - 11s - loss: 0.5723 - accuracy: 0.8737 - val_loss: 0.5790 - val_accuracy: 0.8454\n",
      "Epoch 151/500\n",
      "50/50 - 11s - loss: 0.5717 - accuracy: 0.8745 - val_loss: 0.5427 - val_accuracy: 0.8643\n",
      "Epoch 152/500\n",
      "50/50 - 11s - loss: 0.5675 - accuracy: 0.8745 - val_loss: 0.5323 - val_accuracy: 0.8733\n",
      "Epoch 153/500\n",
      "50/50 - 11s - loss: 0.5651 - accuracy: 0.8753 - val_loss: 0.5323 - val_accuracy: 0.8721\n",
      "Epoch 154/500\n",
      "50/50 - 12s - loss: 0.5628 - accuracy: 0.8757 - val_loss: 0.5310 - val_accuracy: 0.8747\n",
      "Epoch 155/500\n",
      "50/50 - 11s - loss: 0.5608 - accuracy: 0.8758 - val_loss: 0.5561 - val_accuracy: 0.8529\n",
      "Epoch 156/500\n",
      "50/50 - 11s - loss: 0.5605 - accuracy: 0.8755 - val_loss: 0.5664 - val_accuracy: 0.8430\n",
      "Epoch 157/500\n",
      "50/50 - 11s - loss: 0.5579 - accuracy: 0.8768 - val_loss: 0.5484 - val_accuracy: 0.8540\n",
      "Epoch 158/500\n",
      "50/50 - 11s - loss: 0.5557 - accuracy: 0.8755 - val_loss: 0.5504 - val_accuracy: 0.8553\n",
      "Epoch 159/500\n",
      "50/50 - 11s - loss: 0.5518 - accuracy: 0.8785 - val_loss: 0.5290 - val_accuracy: 0.8639\n",
      "Epoch 160/500\n",
      "50/50 - 11s - loss: 0.5513 - accuracy: 0.8761 - val_loss: 0.5342 - val_accuracy: 0.8693\n",
      "Epoch 161/500\n",
      "50/50 - 11s - loss: 0.5494 - accuracy: 0.8763 - val_loss: 0.5380 - val_accuracy: 0.8668\n",
      "Epoch 162/500\n",
      "50/50 - 11s - loss: 0.5480 - accuracy: 0.8780 - val_loss: 0.5443 - val_accuracy: 0.8589\n",
      "Epoch 163/500\n",
      "50/50 - 11s - loss: 0.5439 - accuracy: 0.8796 - val_loss: 0.5789 - val_accuracy: 0.8332\n"
     ]
    },
    {
     "name": "stdout",
     "output_type": "stream",
     "text": [
      "Epoch 164/500\n",
      "50/50 - 11s - loss: 0.5428 - accuracy: 0.8784 - val_loss: 0.5460 - val_accuracy: 0.8519\n",
      "Epoch 165/500\n",
      "50/50 - 11s - loss: 0.5417 - accuracy: 0.8777 - val_loss: 0.5155 - val_accuracy: 0.8694\n",
      "Epoch 166/500\n",
      "50/50 - 11s - loss: 0.5422 - accuracy: 0.8776 - val_loss: 0.5053 - val_accuracy: 0.8731\n",
      "Epoch 167/500\n",
      "50/50 - 11s - loss: 0.5394 - accuracy: 0.8781 - val_loss: 0.5386 - val_accuracy: 0.8534\n",
      "Epoch 168/500\n",
      "50/50 - 11s - loss: 0.5370 - accuracy: 0.8775 - val_loss: 0.5033 - val_accuracy: 0.8678\n",
      "Epoch 169/500\n",
      "50/50 - 11s - loss: 0.5335 - accuracy: 0.8788 - val_loss: 0.4988 - val_accuracy: 0.8772\n",
      "Epoch 170/500\n",
      "50/50 - 11s - loss: 0.5324 - accuracy: 0.8792 - val_loss: 0.5071 - val_accuracy: 0.8739\n",
      "Epoch 171/500\n",
      "50/50 - 11s - loss: 0.5293 - accuracy: 0.8806 - val_loss: 0.4948 - val_accuracy: 0.8768\n",
      "Epoch 172/500\n",
      "50/50 - 11s - loss: 0.5274 - accuracy: 0.8812 - val_loss: 0.4926 - val_accuracy: 0.8794\n",
      "Epoch 173/500\n",
      "50/50 - 11s - loss: 0.5258 - accuracy: 0.8799 - val_loss: 0.4935 - val_accuracy: 0.8724\n",
      "Epoch 174/500\n",
      "50/50 - 11s - loss: 0.5243 - accuracy: 0.8798 - val_loss: 0.5340 - val_accuracy: 0.8554\n",
      "Epoch 175/500\n",
      "50/50 - 11s - loss: 0.5222 - accuracy: 0.8806 - val_loss: 0.5094 - val_accuracy: 0.8654\n",
      "Epoch 176/500\n",
      "50/50 - 11s - loss: 0.5216 - accuracy: 0.8806 - val_loss: 0.5047 - val_accuracy: 0.8651\n",
      "Epoch 177/500\n",
      "50/50 - 11s - loss: 0.5176 - accuracy: 0.8812 - val_loss: 0.4776 - val_accuracy: 0.8819\n",
      "Epoch 178/500\n",
      "50/50 - 11s - loss: 0.5177 - accuracy: 0.8807 - val_loss: 0.4883 - val_accuracy: 0.8749\n",
      "Epoch 179/500\n",
      "50/50 - 11s - loss: 0.5164 - accuracy: 0.8805 - val_loss: 0.4833 - val_accuracy: 0.8790\n",
      "Epoch 180/500\n",
      "50/50 - 11s - loss: 0.5141 - accuracy: 0.8804 - val_loss: 0.4875 - val_accuracy: 0.8728\n",
      "Epoch 181/500\n",
      "50/50 - 11s - loss: 0.5135 - accuracy: 0.8800 - val_loss: 0.4824 - val_accuracy: 0.8740\n",
      "Epoch 182/500\n",
      "50/50 - 11s - loss: 0.5098 - accuracy: 0.8814 - val_loss: 0.5239 - val_accuracy: 0.8506\n",
      "Epoch 183/500\n",
      "50/50 - 11s - loss: 0.5100 - accuracy: 0.8832 - val_loss: 0.4916 - val_accuracy: 0.8741\n",
      "Epoch 184/500\n",
      "50/50 - 11s - loss: 0.5067 - accuracy: 0.8822 - val_loss: 0.4743 - val_accuracy: 0.8758\n",
      "Epoch 185/500\n",
      "50/50 - 11s - loss: 0.5054 - accuracy: 0.8831 - val_loss: 0.4884 - val_accuracy: 0.8732\n",
      "Epoch 186/500\n",
      "50/50 - 11s - loss: 0.5019 - accuracy: 0.8840 - val_loss: 0.4797 - val_accuracy: 0.8778\n",
      "Epoch 187/500\n",
      "50/50 - 11s - loss: 0.5014 - accuracy: 0.8836 - val_loss: 0.4870 - val_accuracy: 0.8694\n",
      "Epoch 188/500\n",
      "50/50 - 11s - loss: 0.4993 - accuracy: 0.8840 - val_loss: 0.4913 - val_accuracy: 0.8674\n",
      "Epoch 189/500\n",
      "50/50 - 11s - loss: 0.4996 - accuracy: 0.8828 - val_loss: 0.4650 - val_accuracy: 0.8814\n",
      "Epoch 190/500\n",
      "50/50 - 11s - loss: 0.4966 - accuracy: 0.8840 - val_loss: 0.4888 - val_accuracy: 0.8738\n",
      "Epoch 191/500\n",
      "50/50 - 11s - loss: 0.4936 - accuracy: 0.8852 - val_loss: 0.4739 - val_accuracy: 0.8739\n",
      "Epoch 192/500\n",
      "50/50 - 11s - loss: 0.4929 - accuracy: 0.8841 - val_loss: 0.5121 - val_accuracy: 0.8451\n",
      "Epoch 193/500\n",
      "50/50 - 11s - loss: 0.4930 - accuracy: 0.8833 - val_loss: 0.4587 - val_accuracy: 0.8822\n",
      "Epoch 194/500\n",
      "50/50 - 11s - loss: 0.4897 - accuracy: 0.8842 - val_loss: 0.4640 - val_accuracy: 0.8816\n",
      "Epoch 195/500\n",
      "50/50 - 11s - loss: 0.4883 - accuracy: 0.8858 - val_loss: 0.4827 - val_accuracy: 0.8788\n",
      "Epoch 196/500\n",
      "50/50 - 11s - loss: 0.4855 - accuracy: 0.8853 - val_loss: 0.4811 - val_accuracy: 0.8743\n",
      "Epoch 197/500\n",
      "50/50 - 11s - loss: 0.4848 - accuracy: 0.8862 - val_loss: 0.4914 - val_accuracy: 0.8629\n",
      "Epoch 198/500\n",
      "50/50 - 11s - loss: 0.4842 - accuracy: 0.8863 - val_loss: 0.5013 - val_accuracy: 0.8506\n",
      "Epoch 199/500\n",
      "50/50 - 11s - loss: 0.4839 - accuracy: 0.8846 - val_loss: 0.4817 - val_accuracy: 0.8743\n",
      "Epoch 200/500\n",
      "50/50 - 11s - loss: 0.4815 - accuracy: 0.8861 - val_loss: 0.4800 - val_accuracy: 0.8693\n",
      "Epoch 201/500\n",
      "50/50 - 11s - loss: 0.4787 - accuracy: 0.8875 - val_loss: 0.4723 - val_accuracy: 0.8764\n",
      "Epoch 202/500\n",
      "50/50 - 11s - loss: 0.4768 - accuracy: 0.8866 - val_loss: 0.5098 - val_accuracy: 0.8479\n",
      "Epoch 203/500\n",
      "50/50 - 11s - loss: 0.4778 - accuracy: 0.8854 - val_loss: 0.4637 - val_accuracy: 0.8726\n",
      "Epoch 204/500\n",
      "50/50 - 11s - loss: 0.4745 - accuracy: 0.8868 - val_loss: 0.4797 - val_accuracy: 0.8616\n",
      "Epoch 205/500\n",
      "50/50 - 11s - loss: 0.4732 - accuracy: 0.8865 - val_loss: 0.4574 - val_accuracy: 0.8793\n",
      "Epoch 206/500\n",
      "50/50 - 11s - loss: 0.4710 - accuracy: 0.8863 - val_loss: 0.4632 - val_accuracy: 0.8779\n",
      "Epoch 207/500\n",
      "50/50 - 11s - loss: 0.4694 - accuracy: 0.8872 - val_loss: 0.5189 - val_accuracy: 0.8471\n",
      "Epoch 208/500\n",
      "50/50 - 11s - loss: 0.4705 - accuracy: 0.8882 - val_loss: 0.4442 - val_accuracy: 0.8811\n",
      "Epoch 209/500\n",
      "50/50 - 11s - loss: 0.4702 - accuracy: 0.8867 - val_loss: 0.4726 - val_accuracy: 0.8689\n",
      "Epoch 210/500\n",
      "50/50 - 12s - loss: 0.4673 - accuracy: 0.8866 - val_loss: 0.4861 - val_accuracy: 0.8602\n",
      "Epoch 211/500\n",
      "50/50 - 11s - loss: 0.4638 - accuracy: 0.8898 - val_loss: 0.4535 - val_accuracy: 0.8842\n",
      "Epoch 212/500\n",
      "50/50 - 12s - loss: 0.4616 - accuracy: 0.8883 - val_loss: 0.4658 - val_accuracy: 0.8748\n",
      "Epoch 213/500\n",
      "50/50 - 11s - loss: 0.4609 - accuracy: 0.8884 - val_loss: 0.4820 - val_accuracy: 0.8592\n",
      "Epoch 214/500\n",
      "50/50 - 11s - loss: 0.4590 - accuracy: 0.8898 - val_loss: 0.4501 - val_accuracy: 0.8793\n",
      "Epoch 215/500\n",
      "50/50 - 11s - loss: 0.4607 - accuracy: 0.8892 - val_loss: 0.4471 - val_accuracy: 0.8806\n",
      "Epoch 216/500\n",
      "50/50 - 11s - loss: 0.4583 - accuracy: 0.8896 - val_loss: 0.4652 - val_accuracy: 0.8701\n",
      "Epoch 217/500\n",
      "50/50 - 11s - loss: 0.4553 - accuracy: 0.8906 - val_loss: 0.4482 - val_accuracy: 0.8734\n",
      "Epoch 218/500\n",
      "50/50 - 11s - loss: 0.4560 - accuracy: 0.8894 - val_loss: 0.4439 - val_accuracy: 0.8728\n",
      "Epoch 219/500\n",
      "50/50 - 11s - loss: 0.4538 - accuracy: 0.8890 - val_loss: 0.4858 - val_accuracy: 0.8578\n",
      "Epoch 220/500\n",
      "50/50 - 11s - loss: 0.4513 - accuracy: 0.8916 - val_loss: 0.4530 - val_accuracy: 0.8709\n",
      "Epoch 221/500\n",
      "50/50 - 11s - loss: 0.4500 - accuracy: 0.8908 - val_loss: 0.4454 - val_accuracy: 0.8753\n",
      "Epoch 222/500\n",
      "50/50 - 11s - loss: 0.4495 - accuracy: 0.8893 - val_loss: 0.4351 - val_accuracy: 0.8791\n",
      "Epoch 223/500\n",
      "50/50 - 11s - loss: 0.4486 - accuracy: 0.8905 - val_loss: 0.4620 - val_accuracy: 0.8663\n",
      "Epoch 224/500\n",
      "50/50 - 11s - loss: 0.4454 - accuracy: 0.8919 - val_loss: 0.4097 - val_accuracy: 0.8884\n",
      "Epoch 225/500\n",
      "50/50 - 11s - loss: 0.4439 - accuracy: 0.8910 - val_loss: 0.4194 - val_accuracy: 0.8837\n",
      "Epoch 226/500\n",
      "50/50 - 11s - loss: 0.4450 - accuracy: 0.8905 - val_loss: 0.4356 - val_accuracy: 0.8788\n",
      "Epoch 227/500\n",
      "50/50 - 11s - loss: 0.4416 - accuracy: 0.8918 - val_loss: 0.4395 - val_accuracy: 0.8699\n",
      "Epoch 228/500\n",
      "50/50 - 11s - loss: 0.4447 - accuracy: 0.8906 - val_loss: 0.4381 - val_accuracy: 0.8771\n",
      "Epoch 229/500\n",
      "50/50 - 11s - loss: 0.4400 - accuracy: 0.8920 - val_loss: 0.4252 - val_accuracy: 0.8853\n",
      "Epoch 230/500\n",
      "50/50 - 11s - loss: 0.4383 - accuracy: 0.8943 - val_loss: 0.5111 - val_accuracy: 0.8362\n",
      "Epoch 231/500\n",
      "50/50 - 11s - loss: 0.4384 - accuracy: 0.8922 - val_loss: 0.4558 - val_accuracy: 0.8653\n",
      "Epoch 232/500\n",
      "50/50 - 11s - loss: 0.4358 - accuracy: 0.8933 - val_loss: 0.4376 - val_accuracy: 0.8789\n",
      "Epoch 233/500\n",
      "50/50 - 11s - loss: 0.4337 - accuracy: 0.8930 - val_loss: 0.4855 - val_accuracy: 0.8492\n",
      "Epoch 234/500\n",
      "50/50 - 11s - loss: 0.4318 - accuracy: 0.8934 - val_loss: 0.5070 - val_accuracy: 0.8368\n",
      "Epoch 235/500\n",
      "50/50 - 11s - loss: 0.4336 - accuracy: 0.8927 - val_loss: 0.4267 - val_accuracy: 0.8803\n",
      "Epoch 236/500\n",
      "50/50 - 11s - loss: 0.4310 - accuracy: 0.8933 - val_loss: 0.4313 - val_accuracy: 0.8774\n",
      "Epoch 237/500\n",
      "50/50 - 11s - loss: 0.4286 - accuracy: 0.8938 - val_loss: 0.4644 - val_accuracy: 0.8567\n",
      "Epoch 238/500\n",
      "50/50 - 11s - loss: 0.4263 - accuracy: 0.8951 - val_loss: 0.4274 - val_accuracy: 0.8804\n",
      "Epoch 239/500\n",
      "50/50 - 11s - loss: 0.4291 - accuracy: 0.8936 - val_loss: 0.4238 - val_accuracy: 0.8848\n",
      "Epoch 240/500\n",
      "50/50 - 11s - loss: 0.4300 - accuracy: 0.8925 - val_loss: 0.4175 - val_accuracy: 0.8824\n",
      "Epoch 241/500\n",
      "50/50 - 11s - loss: 0.4272 - accuracy: 0.8926 - val_loss: 0.4193 - val_accuracy: 0.8836\n",
      "Epoch 242/500\n",
      "50/50 - 11s - loss: 0.4243 - accuracy: 0.8950 - val_loss: 0.4462 - val_accuracy: 0.8806\n",
      "Epoch 243/500\n",
      "50/50 - 11s - loss: 0.4211 - accuracy: 0.8943 - val_loss: 0.4283 - val_accuracy: 0.8837\n",
      "Epoch 244/500\n",
      "50/50 - 11s - loss: 0.4192 - accuracy: 0.8971 - val_loss: 0.4414 - val_accuracy: 0.8683\n"
     ]
    },
    {
     "name": "stdout",
     "output_type": "stream",
     "text": [
      "Epoch 245/500\n",
      "50/50 - 11s - loss: 0.4215 - accuracy: 0.8940 - val_loss: 0.4303 - val_accuracy: 0.8793\n",
      "Epoch 246/500\n",
      "50/50 - 11s - loss: 0.4187 - accuracy: 0.8957 - val_loss: 0.4352 - val_accuracy: 0.8703\n",
      "Epoch 247/500\n",
      "50/50 - 11s - loss: 0.4188 - accuracy: 0.8955 - val_loss: 0.4073 - val_accuracy: 0.8872\n",
      "Epoch 248/500\n",
      "50/50 - 11s - loss: 0.4156 - accuracy: 0.8961 - val_loss: 0.4037 - val_accuracy: 0.8891\n",
      "Epoch 249/500\n",
      "50/50 - 11s - loss: 0.4146 - accuracy: 0.8979 - val_loss: 0.4104 - val_accuracy: 0.8883\n",
      "Epoch 250/500\n",
      "50/50 - 11s - loss: 0.4138 - accuracy: 0.8965 - val_loss: 0.4188 - val_accuracy: 0.8818\n",
      "Epoch 251/500\n",
      "50/50 - 11s - loss: 0.4118 - accuracy: 0.8961 - val_loss: 0.4528 - val_accuracy: 0.8552\n",
      "Epoch 252/500\n",
      "50/50 - 11s - loss: 0.4108 - accuracy: 0.8974 - val_loss: 0.4924 - val_accuracy: 0.8356\n",
      "Epoch 253/500\n",
      "50/50 - 11s - loss: 0.4120 - accuracy: 0.8961 - val_loss: 0.4524 - val_accuracy: 0.8564\n",
      "Epoch 254/500\n",
      "50/50 - 12s - loss: 0.4111 - accuracy: 0.8974 - val_loss: 0.4210 - val_accuracy: 0.8781\n",
      "Epoch 255/500\n",
      "50/50 - 11s - loss: 0.4107 - accuracy: 0.8956 - val_loss: 0.4088 - val_accuracy: 0.8824\n",
      "Epoch 256/500\n",
      "50/50 - 11s - loss: 0.4072 - accuracy: 0.8959 - val_loss: 0.4265 - val_accuracy: 0.8664\n",
      "Epoch 257/500\n",
      "50/50 - 11s - loss: 0.4076 - accuracy: 0.8972 - val_loss: 0.4549 - val_accuracy: 0.8552\n",
      "Epoch 258/500\n",
      "50/50 - 11s - loss: 0.4063 - accuracy: 0.8960 - val_loss: 0.4694 - val_accuracy: 0.8480\n",
      "Epoch 259/500\n",
      "50/50 - 11s - loss: 0.4026 - accuracy: 0.8981 - val_loss: 0.4114 - val_accuracy: 0.8827\n",
      "Epoch 260/500\n",
      "50/50 - 11s - loss: 0.4022 - accuracy: 0.8978 - val_loss: 0.4079 - val_accuracy: 0.8834\n",
      "Epoch 261/500\n",
      "50/50 - 12s - loss: 0.4024 - accuracy: 0.8969 - val_loss: 0.3845 - val_accuracy: 0.8926\n",
      "Epoch 262/500\n",
      "50/50 - 11s - loss: 0.3994 - accuracy: 0.8984 - val_loss: 0.3861 - val_accuracy: 0.8890\n",
      "Epoch 263/500\n",
      "50/50 - 11s - loss: 0.3986 - accuracy: 0.8991 - val_loss: 0.3994 - val_accuracy: 0.8821\n",
      "Epoch 264/500\n",
      "50/50 - 11s - loss: 0.3995 - accuracy: 0.8983 - val_loss: 0.4579 - val_accuracy: 0.8537\n",
      "Epoch 265/500\n",
      "50/50 - 11s - loss: 0.3984 - accuracy: 0.8977 - val_loss: 0.3770 - val_accuracy: 0.8907\n",
      "Epoch 266/500\n",
      "50/50 - 11s - loss: 0.3991 - accuracy: 0.8972 - val_loss: 0.4347 - val_accuracy: 0.8650\n",
      "Epoch 267/500\n",
      "50/50 - 11s - loss: 0.3945 - accuracy: 0.8992 - val_loss: 0.4428 - val_accuracy: 0.8624\n",
      "Epoch 268/500\n",
      "50/50 - 11s - loss: 0.3950 - accuracy: 0.8993 - val_loss: 0.3903 - val_accuracy: 0.8880\n",
      "Epoch 269/500\n",
      "50/50 - 11s - loss: 0.3921 - accuracy: 0.8999 - val_loss: 0.4260 - val_accuracy: 0.8627\n",
      "Epoch 270/500\n",
      "50/50 - 11s - loss: 0.3942 - accuracy: 0.8986 - val_loss: 0.3963 - val_accuracy: 0.8802\n",
      "Epoch 271/500\n",
      "50/50 - 11s - loss: 0.3925 - accuracy: 0.8985 - val_loss: 0.4923 - val_accuracy: 0.8341\n",
      "Epoch 272/500\n",
      "50/50 - 11s - loss: 0.3923 - accuracy: 0.8984 - val_loss: 0.4621 - val_accuracy: 0.8461\n",
      "Epoch 273/500\n",
      "50/50 - 11s - loss: 0.3893 - accuracy: 0.9009 - val_loss: 0.4236 - val_accuracy: 0.8690\n",
      "Epoch 274/500\n",
      "50/50 - 11s - loss: 0.3892 - accuracy: 0.8995 - val_loss: 0.3909 - val_accuracy: 0.8856\n",
      "Epoch 275/500\n",
      "50/50 - 11s - loss: 0.3899 - accuracy: 0.8994 - val_loss: 0.4234 - val_accuracy: 0.8669\n",
      "Epoch 276/500\n",
      "50/50 - 12s - loss: 0.3880 - accuracy: 0.8991 - val_loss: 0.4303 - val_accuracy: 0.8698\n",
      "Epoch 277/500\n",
      "50/50 - 12s - loss: 0.3878 - accuracy: 0.9003 - val_loss: 0.4873 - val_accuracy: 0.8299\n",
      "Epoch 278/500\n",
      "50/50 - 11s - loss: 0.3857 - accuracy: 0.9001 - val_loss: 0.4255 - val_accuracy: 0.8686\n",
      "Epoch 279/500\n",
      "50/50 - 11s - loss: 0.3853 - accuracy: 0.8998 - val_loss: 0.4913 - val_accuracy: 0.8211\n",
      "Epoch 280/500\n",
      "50/50 - 11s - loss: 0.3835 - accuracy: 0.9016 - val_loss: 0.4131 - val_accuracy: 0.8773\n",
      "Epoch 281/500\n",
      "50/50 - 11s - loss: 0.3819 - accuracy: 0.9016 - val_loss: 0.3867 - val_accuracy: 0.8838\n",
      "Epoch 282/500\n",
      "50/50 - 11s - loss: 0.3817 - accuracy: 0.9003 - val_loss: 0.4619 - val_accuracy: 0.8458\n",
      "Epoch 283/500\n",
      "50/50 - 11s - loss: 0.3796 - accuracy: 0.9027 - val_loss: 0.3672 - val_accuracy: 0.8939\n",
      "Epoch 284/500\n",
      "50/50 - 11s - loss: 0.3789 - accuracy: 0.9014 - val_loss: 0.3754 - val_accuracy: 0.8936\n",
      "Epoch 285/500\n",
      "50/50 - 11s - loss: 0.3790 - accuracy: 0.9016 - val_loss: 0.4502 - val_accuracy: 0.8538\n",
      "Epoch 286/500\n",
      "50/50 - 11s - loss: 0.3764 - accuracy: 0.9024 - val_loss: 0.4223 - val_accuracy: 0.8652\n",
      "Epoch 287/500\n",
      "50/50 - 11s - loss: 0.3757 - accuracy: 0.9016 - val_loss: 0.3843 - val_accuracy: 0.8860\n",
      "Epoch 288/500\n",
      "50/50 - 11s - loss: 0.3749 - accuracy: 0.9024 - val_loss: 0.3922 - val_accuracy: 0.8862\n",
      "Epoch 289/500\n",
      "50/50 - 12s - loss: 0.3729 - accuracy: 0.9026 - val_loss: 0.3731 - val_accuracy: 0.8940\n",
      "Epoch 290/500\n",
      "50/50 - 11s - loss: 0.3726 - accuracy: 0.9028 - val_loss: 0.3820 - val_accuracy: 0.8879\n",
      "Epoch 291/500\n",
      "50/50 - 11s - loss: 0.3735 - accuracy: 0.9038 - val_loss: 0.3723 - val_accuracy: 0.8921\n",
      "Epoch 292/500\n",
      "50/50 - 11s - loss: 0.3702 - accuracy: 0.9039 - val_loss: 0.4009 - val_accuracy: 0.8849\n",
      "Epoch 293/500\n",
      "50/50 - 11s - loss: 0.3726 - accuracy: 0.9022 - val_loss: 0.3926 - val_accuracy: 0.8830\n",
      "Epoch 294/500\n",
      "50/50 - 11s - loss: 0.3717 - accuracy: 0.9024 - val_loss: 0.3856 - val_accuracy: 0.8893\n",
      "Epoch 295/500\n",
      "50/50 - 11s - loss: 0.3727 - accuracy: 0.9017 - val_loss: 0.4219 - val_accuracy: 0.8701\n",
      "Epoch 296/500\n",
      "50/50 - 11s - loss: 0.3709 - accuracy: 0.9018 - val_loss: 0.4691 - val_accuracy: 0.8438\n",
      "Epoch 297/500\n",
      "50/50 - 11s - loss: 0.3670 - accuracy: 0.9043 - val_loss: 0.4017 - val_accuracy: 0.8764\n",
      "Epoch 298/500\n",
      "50/50 - 11s - loss: 0.3680 - accuracy: 0.9041 - val_loss: 0.3594 - val_accuracy: 0.8948\n",
      "Epoch 299/500\n",
      "50/50 - 11s - loss: 0.3647 - accuracy: 0.9038 - val_loss: 0.3698 - val_accuracy: 0.8930\n",
      "Epoch 300/500\n",
      "50/50 - 11s - loss: 0.3659 - accuracy: 0.9032 - val_loss: 0.3619 - val_accuracy: 0.8957\n",
      "Epoch 301/500\n",
      "50/50 - 11s - loss: 0.3633 - accuracy: 0.9041 - val_loss: 0.4088 - val_accuracy: 0.8663\n",
      "Epoch 302/500\n",
      "50/50 - 11s - loss: 0.3629 - accuracy: 0.9043 - val_loss: 0.3730 - val_accuracy: 0.8930\n",
      "Epoch 303/500\n",
      "50/50 - 11s - loss: 0.3615 - accuracy: 0.9050 - val_loss: 0.3760 - val_accuracy: 0.8891\n",
      "Epoch 304/500\n",
      "50/50 - 11s - loss: 0.3617 - accuracy: 0.9047 - val_loss: 0.4709 - val_accuracy: 0.8304\n",
      "Epoch 305/500\n",
      "50/50 - 11s - loss: 0.3624 - accuracy: 0.9029 - val_loss: 0.3512 - val_accuracy: 0.8984\n",
      "Epoch 306/500\n",
      "50/50 - 11s - loss: 0.3599 - accuracy: 0.9051 - val_loss: 0.4400 - val_accuracy: 0.8510\n",
      "Epoch 307/500\n",
      "50/50 - 11s - loss: 0.3590 - accuracy: 0.9058 - val_loss: 0.3467 - val_accuracy: 0.8989\n",
      "Epoch 308/500\n",
      "50/50 - 11s - loss: 0.3584 - accuracy: 0.9045 - val_loss: 0.3726 - val_accuracy: 0.8867\n",
      "Epoch 309/500\n",
      "50/50 - 11s - loss: 0.3581 - accuracy: 0.9049 - val_loss: 0.3851 - val_accuracy: 0.8831\n",
      "Epoch 310/500\n",
      "50/50 - 11s - loss: 0.3570 - accuracy: 0.9048 - val_loss: 0.3734 - val_accuracy: 0.8931\n",
      "Epoch 311/500\n",
      "50/50 - 11s - loss: 0.3552 - accuracy: 0.9058 - val_loss: 0.3756 - val_accuracy: 0.8888\n",
      "Epoch 312/500\n",
      "50/50 - 11s - loss: 0.3578 - accuracy: 0.9044 - val_loss: 0.3717 - val_accuracy: 0.8868\n",
      "Epoch 313/500\n",
      "50/50 - 11s - loss: 0.3540 - accuracy: 0.9061 - val_loss: 0.3968 - val_accuracy: 0.8701\n",
      "Epoch 314/500\n",
      "50/50 - 11s - loss: 0.3529 - accuracy: 0.9062 - val_loss: 0.3574 - val_accuracy: 0.8976\n",
      "Epoch 315/500\n",
      "50/50 - 11s - loss: 0.3540 - accuracy: 0.9061 - val_loss: 0.3838 - val_accuracy: 0.8794\n",
      "Epoch 316/500\n",
      "50/50 - 11s - loss: 0.3526 - accuracy: 0.9067 - val_loss: 0.3573 - val_accuracy: 0.8919\n",
      "Epoch 317/500\n",
      "50/50 - 11s - loss: 0.3541 - accuracy: 0.9050 - val_loss: 0.3743 - val_accuracy: 0.8823\n",
      "Epoch 318/500\n",
      "50/50 - 11s - loss: 0.3521 - accuracy: 0.9070 - val_loss: 0.3841 - val_accuracy: 0.8840\n",
      "Epoch 319/500\n",
      "50/50 - 11s - loss: 0.3483 - accuracy: 0.9067 - val_loss: 0.4062 - val_accuracy: 0.8716\n",
      "Epoch 320/500\n",
      "50/50 - 11s - loss: 0.3487 - accuracy: 0.9063 - val_loss: 0.4547 - val_accuracy: 0.8434\n",
      "Epoch 321/500\n",
      "50/50 - 11s - loss: 0.3462 - accuracy: 0.9078 - val_loss: 0.3714 - val_accuracy: 0.8874\n",
      "Epoch 322/500\n",
      "50/50 - 11s - loss: 0.3471 - accuracy: 0.9077 - val_loss: 0.3720 - val_accuracy: 0.8879\n",
      "Epoch 323/500\n",
      "50/50 - 11s - loss: 0.3471 - accuracy: 0.9071 - val_loss: 0.3659 - val_accuracy: 0.8909\n",
      "Epoch 324/500\n",
      "50/50 - 11s - loss: 0.3461 - accuracy: 0.9077 - val_loss: 0.3423 - val_accuracy: 0.8949\n",
      "Epoch 325/500\n",
      "50/50 - 11s - loss: 0.3468 - accuracy: 0.9061 - val_loss: 0.3572 - val_accuracy: 0.8917\n"
     ]
    },
    {
     "name": "stdout",
     "output_type": "stream",
     "text": [
      "Epoch 326/500\n",
      "50/50 - 11s - loss: 0.3433 - accuracy: 0.9081 - val_loss: 0.3506 - val_accuracy: 0.8944\n",
      "Epoch 327/500\n",
      "50/50 - 11s - loss: 0.3437 - accuracy: 0.9069 - val_loss: 0.3379 - val_accuracy: 0.9001\n",
      "Epoch 328/500\n",
      "50/50 - 11s - loss: 0.3417 - accuracy: 0.9077 - val_loss: 0.3660 - val_accuracy: 0.8841\n",
      "Epoch 329/500\n",
      "50/50 - 11s - loss: 0.3423 - accuracy: 0.9078 - val_loss: 0.4173 - val_accuracy: 0.8598\n",
      "Epoch 330/500\n",
      "50/50 - 11s - loss: 0.3373 - accuracy: 0.9095 - val_loss: 0.3732 - val_accuracy: 0.8804\n",
      "Epoch 331/500\n",
      "50/50 - 11s - loss: 0.3403 - accuracy: 0.9079 - val_loss: 0.3392 - val_accuracy: 0.8977\n",
      "Epoch 332/500\n",
      "50/50 - 11s - loss: 0.3411 - accuracy: 0.9080 - val_loss: 0.3729 - val_accuracy: 0.8842\n",
      "Epoch 333/500\n",
      "50/50 - 11s - loss: 0.3385 - accuracy: 0.9083 - val_loss: 0.3562 - val_accuracy: 0.8910\n",
      "Epoch 334/500\n",
      "50/50 - 11s - loss: 0.3385 - accuracy: 0.9086 - val_loss: 0.3338 - val_accuracy: 0.8992\n",
      "Epoch 335/500\n",
      "50/50 - 11s - loss: 0.3376 - accuracy: 0.9083 - val_loss: 0.3386 - val_accuracy: 0.9010\n",
      "Epoch 336/500\n",
      "50/50 - 11s - loss: 0.3360 - accuracy: 0.9095 - val_loss: 0.3571 - val_accuracy: 0.8867\n",
      "Epoch 337/500\n",
      "50/50 - 11s - loss: 0.3367 - accuracy: 0.9080 - val_loss: 0.3532 - val_accuracy: 0.8944\n",
      "Epoch 338/500\n",
      "50/50 - 11s - loss: 0.3385 - accuracy: 0.9076 - val_loss: 0.3707 - val_accuracy: 0.8786\n",
      "Epoch 339/500\n",
      "50/50 - 11s - loss: 0.3359 - accuracy: 0.9087 - val_loss: 0.3549 - val_accuracy: 0.8914\n",
      "Epoch 340/500\n",
      "50/50 - 11s - loss: 0.3344 - accuracy: 0.9097 - val_loss: 0.3331 - val_accuracy: 0.8991\n",
      "Epoch 341/500\n",
      "50/50 - 11s - loss: 0.3344 - accuracy: 0.9088 - val_loss: 0.3345 - val_accuracy: 0.8977\n",
      "Epoch 342/500\n",
      "50/50 - 11s - loss: 0.3350 - accuracy: 0.9082 - val_loss: 0.3548 - val_accuracy: 0.8886\n",
      "Epoch 343/500\n",
      "50/50 - 11s - loss: 0.3323 - accuracy: 0.9091 - val_loss: 0.3493 - val_accuracy: 0.8964\n",
      "Epoch 344/500\n",
      "50/50 - 11s - loss: 0.3299 - accuracy: 0.9109 - val_loss: 0.3548 - val_accuracy: 0.8932\n",
      "Epoch 345/500\n",
      "50/50 - 12s - loss: 0.3306 - accuracy: 0.9096 - val_loss: 0.3746 - val_accuracy: 0.8751\n",
      "Epoch 346/500\n",
      "50/50 - 11s - loss: 0.3300 - accuracy: 0.9089 - val_loss: 0.3774 - val_accuracy: 0.8821\n",
      "Epoch 347/500\n",
      "50/50 - 12s - loss: 0.3284 - accuracy: 0.9101 - val_loss: 0.4201 - val_accuracy: 0.8499\n",
      "Epoch 348/500\n",
      "50/50 - 11s - loss: 0.3273 - accuracy: 0.9111 - val_loss: 0.3508 - val_accuracy: 0.8892\n",
      "Epoch 349/500\n",
      "50/50 - 11s - loss: 0.3276 - accuracy: 0.9101 - val_loss: 0.3228 - val_accuracy: 0.9012\n",
      "Epoch 350/500\n",
      "50/50 - 11s - loss: 0.3295 - accuracy: 0.9101 - val_loss: 0.3449 - val_accuracy: 0.8918\n",
      "Epoch 351/500\n",
      "50/50 - 11s - loss: 0.3250 - accuracy: 0.9121 - val_loss: 0.3502 - val_accuracy: 0.8866\n",
      "Epoch 352/500\n",
      "50/50 - 11s - loss: 0.3261 - accuracy: 0.9109 - val_loss: 0.3421 - val_accuracy: 0.8956\n",
      "Epoch 353/500\n",
      "50/50 - 11s - loss: 0.3248 - accuracy: 0.9113 - val_loss: 0.3612 - val_accuracy: 0.8816\n",
      "Epoch 354/500\n",
      "50/50 - 12s - loss: 0.3253 - accuracy: 0.9102 - val_loss: 0.3424 - val_accuracy: 0.8943\n",
      "Epoch 355/500\n",
      "50/50 - 11s - loss: 0.3230 - accuracy: 0.9117 - val_loss: 0.3520 - val_accuracy: 0.8900\n",
      "Epoch 356/500\n",
      "50/50 - 11s - loss: 0.3224 - accuracy: 0.9121 - val_loss: 0.4286 - val_accuracy: 0.8453\n",
      "Epoch 357/500\n",
      "50/50 - 11s - loss: 0.3231 - accuracy: 0.9107 - val_loss: 0.3738 - val_accuracy: 0.8748\n",
      "Epoch 358/500\n",
      "50/50 - 11s - loss: 0.3225 - accuracy: 0.9106 - val_loss: 0.3658 - val_accuracy: 0.8842\n",
      "Epoch 359/500\n",
      "50/50 - 12s - loss: 0.3232 - accuracy: 0.9117 - val_loss: 0.3123 - val_accuracy: 0.9067\n",
      "Epoch 360/500\n",
      "50/50 - 11s - loss: 0.3210 - accuracy: 0.9110 - val_loss: 0.3186 - val_accuracy: 0.9020\n",
      "Epoch 361/500\n",
      "50/50 - 11s - loss: 0.3179 - accuracy: 0.9131 - val_loss: 0.3715 - val_accuracy: 0.8786\n",
      "Epoch 362/500\n",
      "50/50 - 11s - loss: 0.3208 - accuracy: 0.9124 - val_loss: 0.3261 - val_accuracy: 0.8988\n",
      "Epoch 363/500\n",
      "50/50 - 11s - loss: 0.3178 - accuracy: 0.9128 - val_loss: 0.4054 - val_accuracy: 0.8563\n",
      "Epoch 364/500\n",
      "50/50 - 11s - loss: 0.3168 - accuracy: 0.9130 - val_loss: 0.3807 - val_accuracy: 0.8764\n",
      "Epoch 365/500\n",
      "50/50 - 11s - loss: 0.3190 - accuracy: 0.9111 - val_loss: 0.3446 - val_accuracy: 0.8956\n",
      "Epoch 366/500\n",
      "50/50 - 11s - loss: 0.3169 - accuracy: 0.9130 - val_loss: 0.3438 - val_accuracy: 0.8923\n",
      "Epoch 367/500\n",
      "50/50 - 11s - loss: 0.3157 - accuracy: 0.9120 - val_loss: 0.3552 - val_accuracy: 0.8851\n",
      "Epoch 368/500\n",
      "50/50 - 11s - loss: 0.3169 - accuracy: 0.9124 - val_loss: 0.3241 - val_accuracy: 0.9016\n",
      "Epoch 369/500\n",
      "50/50 - 11s - loss: 0.3158 - accuracy: 0.9125 - val_loss: 0.3342 - val_accuracy: 0.8973\n",
      "Epoch 370/500\n",
      "50/50 - 11s - loss: 0.3144 - accuracy: 0.9123 - val_loss: 0.4225 - val_accuracy: 0.8442\n",
      "Epoch 371/500\n",
      "50/50 - 11s - loss: 0.3127 - accuracy: 0.9137 - val_loss: 0.3686 - val_accuracy: 0.8719\n",
      "Epoch 372/500\n",
      "50/50 - 11s - loss: 0.3124 - accuracy: 0.9135 - val_loss: 0.3177 - val_accuracy: 0.9032\n",
      "Epoch 373/500\n",
      "50/50 - 11s - loss: 0.3154 - accuracy: 0.9123 - val_loss: 0.3677 - val_accuracy: 0.8859\n",
      "Epoch 374/500\n",
      "50/50 - 11s - loss: 0.3133 - accuracy: 0.9123 - val_loss: 0.3705 - val_accuracy: 0.8759\n",
      "Epoch 375/500\n",
      "50/50 - 11s - loss: 0.3108 - accuracy: 0.9137 - val_loss: 0.3374 - val_accuracy: 0.8957\n",
      "Epoch 376/500\n",
      "50/50 - 11s - loss: 0.3113 - accuracy: 0.9140 - val_loss: 0.3444 - val_accuracy: 0.8950\n",
      "Epoch 377/500\n",
      "50/50 - 11s - loss: 0.3106 - accuracy: 0.9129 - val_loss: 0.3564 - val_accuracy: 0.8817\n",
      "Epoch 378/500\n",
      "50/50 - 11s - loss: 0.3089 - accuracy: 0.9141 - val_loss: 0.4234 - val_accuracy: 0.8460\n",
      "Epoch 379/500\n",
      "50/50 - 11s - loss: 0.3079 - accuracy: 0.9139 - val_loss: 0.3420 - val_accuracy: 0.8874\n",
      "Epoch 380/500\n",
      "50/50 - 11s - loss: 0.3094 - accuracy: 0.9126 - val_loss: 0.3307 - val_accuracy: 0.8951\n",
      "Epoch 381/500\n",
      "50/50 - 11s - loss: 0.3079 - accuracy: 0.9137 - val_loss: 0.4762 - val_accuracy: 0.8280\n",
      "Epoch 382/500\n",
      "50/50 - 11s - loss: 0.3099 - accuracy: 0.9139 - val_loss: 0.3243 - val_accuracy: 0.8958\n",
      "Epoch 383/500\n",
      "50/50 - 11s - loss: 0.3051 - accuracy: 0.9153 - val_loss: 0.3553 - val_accuracy: 0.8814\n",
      "Epoch 384/500\n",
      "50/50 - 11s - loss: 0.3054 - accuracy: 0.9153 - val_loss: 0.3498 - val_accuracy: 0.8869\n",
      "Epoch 385/500\n",
      "50/50 - 11s - loss: 0.3067 - accuracy: 0.9138 - val_loss: 0.3978 - val_accuracy: 0.8718\n",
      "Epoch 386/500\n",
      "50/50 - 11s - loss: 0.3043 - accuracy: 0.9146 - val_loss: 0.3875 - val_accuracy: 0.8709\n",
      "Epoch 387/500\n",
      "50/50 - 11s - loss: 0.3048 - accuracy: 0.9140 - val_loss: 0.3420 - val_accuracy: 0.8847\n",
      "Epoch 388/500\n",
      "50/50 - 11s - loss: 0.3049 - accuracy: 0.9151 - val_loss: 0.4506 - val_accuracy: 0.8314\n",
      "Epoch 389/500\n",
      "50/50 - 11s - loss: 0.3029 - accuracy: 0.9156 - val_loss: 0.3916 - val_accuracy: 0.8628\n",
      "Epoch 390/500\n",
      "50/50 - 11s - loss: 0.3031 - accuracy: 0.9166 - val_loss: 0.3222 - val_accuracy: 0.8970\n",
      "Epoch 391/500\n",
      "50/50 - 12s - loss: 0.3030 - accuracy: 0.9148 - val_loss: 0.3249 - val_accuracy: 0.8963\n",
      "Epoch 392/500\n",
      "50/50 - 11s - loss: 0.3011 - accuracy: 0.9157 - val_loss: 0.3131 - val_accuracy: 0.9014\n",
      "Epoch 393/500\n",
      "50/50 - 11s - loss: 0.3034 - accuracy: 0.9153 - val_loss: 0.3985 - val_accuracy: 0.8616\n",
      "Epoch 394/500\n",
      "50/50 - 11s - loss: 0.3016 - accuracy: 0.9161 - val_loss: 0.3431 - val_accuracy: 0.8851\n",
      "Epoch 395/500\n",
      "50/50 - 11s - loss: 0.3010 - accuracy: 0.9158 - val_loss: 0.4293 - val_accuracy: 0.8482\n",
      "Epoch 396/500\n",
      "50/50 - 11s - loss: 0.2995 - accuracy: 0.9164 - val_loss: 0.3594 - val_accuracy: 0.8833\n",
      "Epoch 397/500\n",
      "50/50 - 11s - loss: 0.2995 - accuracy: 0.9155 - val_loss: 0.3648 - val_accuracy: 0.8721\n",
      "Epoch 398/500\n",
      "50/50 - 11s - loss: 0.3013 - accuracy: 0.9140 - val_loss: 0.4371 - val_accuracy: 0.8347\n",
      "Epoch 399/500\n",
      "50/50 - 11s - loss: 0.2962 - accuracy: 0.9160 - val_loss: 0.3008 - val_accuracy: 0.9072\n",
      "Epoch 400/500\n",
      "50/50 - 11s - loss: 0.2958 - accuracy: 0.9171 - val_loss: 0.3355 - val_accuracy: 0.8891\n",
      "Epoch 401/500\n",
      "50/50 - 11s - loss: 0.2961 - accuracy: 0.9165 - val_loss: 0.3358 - val_accuracy: 0.8906\n",
      "Epoch 402/500\n",
      "50/50 - 11s - loss: 0.2973 - accuracy: 0.9148 - val_loss: 0.3052 - val_accuracy: 0.9053\n",
      "Epoch 403/500\n",
      "50/50 - 11s - loss: 0.2953 - accuracy: 0.9167 - val_loss: 0.3064 - val_accuracy: 0.9032\n",
      "Epoch 404/500\n",
      "50/50 - 11s - loss: 0.2950 - accuracy: 0.9167 - val_loss: 0.3207 - val_accuracy: 0.8996\n",
      "Epoch 405/500\n",
      "50/50 - 11s - loss: 0.2945 - accuracy: 0.9170 - val_loss: 0.4287 - val_accuracy: 0.8379\n",
      "Epoch 406/500\n",
      "50/50 - 11s - loss: 0.2945 - accuracy: 0.9166 - val_loss: 0.3378 - val_accuracy: 0.8880\n"
     ]
    },
    {
     "name": "stdout",
     "output_type": "stream",
     "text": [
      "Epoch 407/500\n",
      "50/50 - 11s - loss: 0.2942 - accuracy: 0.9175 - val_loss: 0.3332 - val_accuracy: 0.8927\n",
      "Epoch 408/500\n",
      "50/50 - 11s - loss: 0.2946 - accuracy: 0.9161 - val_loss: 0.3013 - val_accuracy: 0.9042\n",
      "Epoch 409/500\n",
      "50/50 - 11s - loss: 0.2923 - accuracy: 0.9182 - val_loss: 0.4056 - val_accuracy: 0.8546\n",
      "Epoch 410/500\n",
      "50/50 - 11s - loss: 0.2935 - accuracy: 0.9167 - val_loss: 0.4440 - val_accuracy: 0.8374\n",
      "Epoch 411/500\n",
      "50/50 - 11s - loss: 0.2948 - accuracy: 0.9157 - val_loss: 0.3667 - val_accuracy: 0.8710\n",
      "Epoch 412/500\n",
      "50/50 - 12s - loss: 0.2925 - accuracy: 0.9177 - val_loss: 0.2968 - val_accuracy: 0.9098\n",
      "Epoch 413/500\n",
      "50/50 - 11s - loss: 0.2920 - accuracy: 0.9170 - val_loss: 0.3566 - val_accuracy: 0.8850\n",
      "Epoch 414/500\n",
      "50/50 - 11s - loss: 0.2905 - accuracy: 0.9177 - val_loss: 0.3993 - val_accuracy: 0.8559\n",
      "Epoch 415/500\n",
      "50/50 - 11s - loss: 0.2887 - accuracy: 0.9176 - val_loss: 0.3102 - val_accuracy: 0.9044\n",
      "Epoch 416/500\n",
      "50/50 - 11s - loss: 0.2890 - accuracy: 0.9187 - val_loss: 0.3767 - val_accuracy: 0.8640\n",
      "Epoch 417/500\n",
      "50/50 - 11s - loss: 0.2893 - accuracy: 0.9169 - val_loss: 0.3370 - val_accuracy: 0.8938\n",
      "Epoch 418/500\n",
      "50/50 - 11s - loss: 0.2862 - accuracy: 0.9201 - val_loss: 0.3054 - val_accuracy: 0.9018\n",
      "Epoch 419/500\n",
      "50/50 - 12s - loss: 0.2883 - accuracy: 0.9170 - val_loss: 0.2933 - val_accuracy: 0.9099\n",
      "Epoch 420/500\n",
      "50/50 - 11s - loss: 0.2854 - accuracy: 0.9204 - val_loss: 0.3455 - val_accuracy: 0.8863\n",
      "Epoch 421/500\n",
      "50/50 - 11s - loss: 0.2862 - accuracy: 0.9191 - val_loss: 0.3538 - val_accuracy: 0.8810\n",
      "Epoch 422/500\n",
      "50/50 - 11s - loss: 0.2866 - accuracy: 0.9170 - val_loss: 0.3105 - val_accuracy: 0.9036\n",
      "Epoch 423/500\n",
      "50/50 - 11s - loss: 0.2869 - accuracy: 0.9186 - val_loss: 0.3163 - val_accuracy: 0.8978\n",
      "Epoch 424/500\n",
      "50/50 - 11s - loss: 0.2880 - accuracy: 0.9172 - val_loss: 0.3361 - val_accuracy: 0.8863\n",
      "Epoch 425/500\n",
      "50/50 - 11s - loss: 0.2863 - accuracy: 0.9183 - val_loss: 0.3414 - val_accuracy: 0.8864\n",
      "Epoch 426/500\n",
      "50/50 - 11s - loss: 0.2861 - accuracy: 0.9179 - val_loss: 0.3303 - val_accuracy: 0.8852\n",
      "Epoch 427/500\n",
      "50/50 - 11s - loss: 0.2855 - accuracy: 0.9178 - val_loss: 0.3224 - val_accuracy: 0.8923\n",
      "Epoch 428/500\n",
      "50/50 - 11s - loss: 0.2835 - accuracy: 0.9193 - val_loss: 0.3193 - val_accuracy: 0.8942\n",
      "Epoch 429/500\n",
      "50/50 - 12s - loss: 0.2826 - accuracy: 0.9187 - val_loss: 0.2857 - val_accuracy: 0.9112\n",
      "Epoch 430/500\n",
      "50/50 - 11s - loss: 0.2828 - accuracy: 0.9198 - val_loss: 0.3268 - val_accuracy: 0.8948\n",
      "Epoch 431/500\n",
      "50/50 - 11s - loss: 0.2818 - accuracy: 0.9197 - val_loss: 0.3042 - val_accuracy: 0.9050\n",
      "Epoch 432/500\n",
      "50/50 - 11s - loss: 0.2821 - accuracy: 0.9193 - val_loss: 0.3568 - val_accuracy: 0.8757\n",
      "Epoch 433/500\n",
      "50/50 - 11s - loss: 0.2816 - accuracy: 0.9197 - val_loss: 0.4288 - val_accuracy: 0.8456\n",
      "Epoch 434/500\n",
      "50/50 - 11s - loss: 0.2811 - accuracy: 0.9192 - val_loss: 0.3499 - val_accuracy: 0.8843\n",
      "Epoch 435/500\n",
      "50/50 - 11s - loss: 0.2803 - accuracy: 0.9191 - val_loss: 0.3315 - val_accuracy: 0.8896\n",
      "Epoch 436/500\n",
      "50/50 - 11s - loss: 0.2794 - accuracy: 0.9203 - val_loss: 0.3360 - val_accuracy: 0.8869\n",
      "Epoch 437/500\n",
      "50/50 - 11s - loss: 0.2797 - accuracy: 0.9196 - val_loss: 0.3595 - val_accuracy: 0.8847\n",
      "Epoch 438/500\n",
      "50/50 - 11s - loss: 0.2780 - accuracy: 0.9200 - val_loss: 0.3486 - val_accuracy: 0.8777\n",
      "Epoch 439/500\n",
      "50/50 - 11s - loss: 0.2797 - accuracy: 0.9203 - val_loss: 0.3137 - val_accuracy: 0.9007\n",
      "Epoch 440/500\n",
      "50/50 - 11s - loss: 0.2812 - accuracy: 0.9185 - val_loss: 0.3126 - val_accuracy: 0.8938\n",
      "Epoch 441/500\n",
      "50/50 - 11s - loss: 0.2779 - accuracy: 0.9201 - val_loss: 0.4252 - val_accuracy: 0.8450\n",
      "Epoch 442/500\n",
      "50/50 - 11s - loss: 0.2788 - accuracy: 0.9197 - val_loss: 0.3841 - val_accuracy: 0.8686\n",
      "Epoch 443/500\n",
      "50/50 - 11s - loss: 0.2761 - accuracy: 0.9219 - val_loss: 0.3507 - val_accuracy: 0.8797\n",
      "Epoch 444/500\n",
      "50/50 - 11s - loss: 0.2784 - accuracy: 0.9208 - val_loss: 0.3450 - val_accuracy: 0.8892\n",
      "Epoch 445/500\n",
      "50/50 - 11s - loss: 0.2767 - accuracy: 0.9197 - val_loss: 0.3013 - val_accuracy: 0.8986\n",
      "Epoch 446/500\n",
      "50/50 - 11s - loss: 0.2768 - accuracy: 0.9202 - val_loss: 0.2874 - val_accuracy: 0.9086\n",
      "Epoch 447/500\n",
      "50/50 - 11s - loss: 0.2747 - accuracy: 0.9211 - val_loss: 0.2954 - val_accuracy: 0.9071\n",
      "Epoch 448/500\n",
      "50/50 - 12s - loss: 0.2771 - accuracy: 0.9198 - val_loss: 0.2822 - val_accuracy: 0.9140\n",
      "Epoch 449/500\n",
      "50/50 - 11s - loss: 0.2733 - accuracy: 0.9213 - val_loss: 0.3139 - val_accuracy: 0.9007\n",
      "Epoch 450/500\n",
      "50/50 - 11s - loss: 0.2731 - accuracy: 0.9212 - val_loss: 0.3257 - val_accuracy: 0.8937\n",
      "Epoch 451/500\n",
      "50/50 - 11s - loss: 0.2754 - accuracy: 0.9204 - val_loss: 0.3043 - val_accuracy: 0.8988\n",
      "Epoch 452/500\n",
      "50/50 - 11s - loss: 0.2733 - accuracy: 0.9199 - val_loss: 0.3164 - val_accuracy: 0.8932\n",
      "Epoch 453/500\n",
      "50/50 - 11s - loss: 0.2728 - accuracy: 0.9207 - val_loss: 0.4601 - val_accuracy: 0.8236\n",
      "Epoch 454/500\n",
      "50/50 - 11s - loss: 0.2738 - accuracy: 0.9202 - val_loss: 0.2823 - val_accuracy: 0.9106\n",
      "Epoch 455/500\n",
      "50/50 - 11s - loss: 0.2703 - accuracy: 0.9207 - val_loss: 0.3262 - val_accuracy: 0.8890\n",
      "Epoch 456/500\n",
      "50/50 - 11s - loss: 0.2729 - accuracy: 0.9204 - val_loss: 0.3208 - val_accuracy: 0.8973\n",
      "Epoch 457/500\n",
      "50/50 - 11s - loss: 0.2736 - accuracy: 0.9215 - val_loss: 0.3376 - val_accuracy: 0.8886\n",
      "Epoch 458/500\n",
      "50/50 - 11s - loss: 0.2721 - accuracy: 0.9218 - val_loss: 0.3487 - val_accuracy: 0.8806\n",
      "Epoch 459/500\n",
      "50/50 - 11s - loss: 0.2701 - accuracy: 0.9215 - val_loss: 0.3055 - val_accuracy: 0.8997\n",
      "Epoch 460/500\n",
      "50/50 - 11s - loss: 0.2726 - accuracy: 0.9193 - val_loss: 0.3050 - val_accuracy: 0.9008\n",
      "Epoch 461/500\n",
      "50/50 - 11s - loss: 0.2698 - accuracy: 0.9220 - val_loss: 0.3346 - val_accuracy: 0.8919\n",
      "Epoch 462/500\n",
      "50/50 - 11s - loss: 0.2688 - accuracy: 0.9220 - val_loss: 0.3035 - val_accuracy: 0.9048\n",
      "Epoch 463/500\n",
      "50/50 - 11s - loss: 0.2696 - accuracy: 0.9218 - val_loss: 0.3340 - val_accuracy: 0.8973\n",
      "Epoch 464/500\n",
      "50/50 - 11s - loss: 0.2675 - accuracy: 0.9233 - val_loss: 0.3375 - val_accuracy: 0.8807\n",
      "Epoch 465/500\n",
      "50/50 - 11s - loss: 0.2685 - accuracy: 0.9217 - val_loss: 0.3499 - val_accuracy: 0.8781\n",
      "Epoch 466/500\n",
      "50/50 - 11s - loss: 0.2673 - accuracy: 0.9227 - val_loss: 0.3271 - val_accuracy: 0.8934\n",
      "Epoch 467/500\n",
      "50/50 - 11s - loss: 0.2692 - accuracy: 0.9214 - val_loss: 0.3267 - val_accuracy: 0.8968\n",
      "Epoch 468/500\n",
      "50/50 - 11s - loss: 0.2683 - accuracy: 0.9218 - val_loss: 0.3609 - val_accuracy: 0.8766\n",
      "Epoch 469/500\n",
      "50/50 - 11s - loss: 0.2677 - accuracy: 0.9212 - val_loss: 0.3194 - val_accuracy: 0.8954\n",
      "Epoch 470/500\n",
      "50/50 - 11s - loss: 0.2671 - accuracy: 0.9222 - val_loss: 0.3084 - val_accuracy: 0.9004\n",
      "Epoch 471/500\n",
      "50/50 - 11s - loss: 0.2655 - accuracy: 0.9229 - val_loss: 0.3043 - val_accuracy: 0.9001\n",
      "Epoch 472/500\n",
      "50/50 - 11s - loss: 0.2662 - accuracy: 0.9224 - val_loss: 0.3098 - val_accuracy: 0.8971\n",
      "Epoch 473/500\n",
      "50/50 - 11s - loss: 0.2641 - accuracy: 0.9228 - val_loss: 0.3077 - val_accuracy: 0.8984\n",
      "Epoch 474/500\n",
      "50/50 - 11s - loss: 0.2650 - accuracy: 0.9220 - val_loss: 0.3772 - val_accuracy: 0.8703\n",
      "Epoch 475/500\n",
      "50/50 - 11s - loss: 0.2668 - accuracy: 0.9204 - val_loss: 0.3259 - val_accuracy: 0.8910\n",
      "Epoch 476/500\n",
      "50/50 - 11s - loss: 0.2612 - accuracy: 0.9246 - val_loss: 0.2961 - val_accuracy: 0.9026\n",
      "Epoch 477/500\n",
      "50/50 - 11s - loss: 0.2618 - accuracy: 0.9242 - val_loss: 0.3466 - val_accuracy: 0.8727\n",
      "Epoch 478/500\n",
      "50/50 - 11s - loss: 0.2642 - accuracy: 0.9232 - val_loss: 0.3457 - val_accuracy: 0.8747\n",
      "Epoch 479/500\n",
      "50/50 - 12s - loss: 0.2626 - accuracy: 0.9241 - val_loss: 0.3724 - val_accuracy: 0.8681\n",
      "Epoch 480/500\n",
      "50/50 - 11s - loss: 0.2649 - accuracy: 0.9213 - val_loss: 0.3036 - val_accuracy: 0.9064\n",
      "Epoch 481/500\n",
      "50/50 - 11s - loss: 0.2632 - accuracy: 0.9228 - val_loss: 0.3157 - val_accuracy: 0.8972\n",
      "Epoch 482/500\n",
      "50/50 - 11s - loss: 0.2621 - accuracy: 0.9238 - val_loss: 0.2882 - val_accuracy: 0.9074\n",
      "Epoch 483/500\n",
      "50/50 - 11s - loss: 0.2601 - accuracy: 0.9237 - val_loss: 0.3273 - val_accuracy: 0.8830\n",
      "Epoch 484/500\n",
      "50/50 - 11s - loss: 0.2641 - accuracy: 0.9222 - val_loss: 0.3665 - val_accuracy: 0.8696\n",
      "Epoch 485/500\n",
      "50/50 - 11s - loss: 0.2596 - accuracy: 0.9244 - val_loss: 0.3303 - val_accuracy: 0.8917\n",
      "Epoch 486/500\n",
      "50/50 - 11s - loss: 0.2602 - accuracy: 0.9232 - val_loss: 0.3814 - val_accuracy: 0.8667\n",
      "Epoch 487/500\n",
      "50/50 - 11s - loss: 0.2597 - accuracy: 0.9241 - val_loss: 0.3018 - val_accuracy: 0.9073\n"
     ]
    },
    {
     "name": "stdout",
     "output_type": "stream",
     "text": [
      "Epoch 488/500\n",
      "50/50 - 11s - loss: 0.2586 - accuracy: 0.9238 - val_loss: 0.3913 - val_accuracy: 0.8534\n",
      "Epoch 489/500\n",
      "50/50 - 11s - loss: 0.2573 - accuracy: 0.9249 - val_loss: 0.3586 - val_accuracy: 0.8750\n",
      "Epoch 490/500\n",
      "50/50 - 11s - loss: 0.2576 - accuracy: 0.9237 - val_loss: 0.3191 - val_accuracy: 0.8913\n",
      "Epoch 491/500\n",
      "50/50 - 11s - loss: 0.2573 - accuracy: 0.9252 - val_loss: 0.2932 - val_accuracy: 0.9054\n",
      "Epoch 492/500\n",
      "50/50 - 11s - loss: 0.2579 - accuracy: 0.9234 - val_loss: 0.3493 - val_accuracy: 0.8747\n",
      "Epoch 493/500\n",
      "50/50 - 11s - loss: 0.2580 - accuracy: 0.9249 - val_loss: 0.2888 - val_accuracy: 0.9069\n",
      "Epoch 494/500\n",
      "50/50 - 11s - loss: 0.2565 - accuracy: 0.9228 - val_loss: 0.2917 - val_accuracy: 0.9028\n",
      "Epoch 495/500\n",
      "50/50 - 11s - loss: 0.2550 - accuracy: 0.9260 - val_loss: 0.2864 - val_accuracy: 0.9087\n",
      "Epoch 496/500\n",
      "50/50 - 11s - loss: 0.2543 - accuracy: 0.9245 - val_loss: 0.3000 - val_accuracy: 0.9021\n",
      "Epoch 497/500\n",
      "50/50 - 11s - loss: 0.2570 - accuracy: 0.9243 - val_loss: 0.3157 - val_accuracy: 0.8920\n",
      "Epoch 498/500\n",
      "50/50 - 11s - loss: 0.2550 - accuracy: 0.9252 - val_loss: 0.3330 - val_accuracy: 0.8833\n",
      "Epoch 499/500\n",
      "50/50 - 11s - loss: 0.2535 - accuracy: 0.9262 - val_loss: 0.3588 - val_accuracy: 0.8721\n",
      "Epoch 500/500\n",
      "50/50 - 11s - loss: 0.2562 - accuracy: 0.9236 - val_loss: 0.2993 - val_accuracy: 0.8996\n"
     ]
    }
   ],
   "source": [
    "hist = model.fit_generator(train_generator,\n",
    "                           steps_per_epoch = len(train_generator),\n",
    "                           epochs = 500,\n",
    "                           callbacks = [checkpoint],\n",
    "                           validation_data = validation_generator,\n",
    "                           verbose = 2,\n",
    "                           validation_steps = len(validation_generator),\n",
    "                           validation_freq = 1)"
   ]
  },
  {
   "cell_type": "markdown",
   "metadata": {},
   "source": [
    "# Plotting the Losses"
   ]
  },
  {
   "cell_type": "code",
   "execution_count": 22,
   "metadata": {},
   "outputs": [
    {
     "data": {
      "image/png": "[encoded data removed]",
      "text/plain": [
       "<Figure size 864x360 with 2 Axes>"
      ]
     },
     "metadata": {
      "needs_background": "light"
     },
     "output_type": "display_data"
    }
   ],
   "source": [
    "def plot_loss(history):\n",
    "    acc = history.history['accuracy']\n",
    "    val_acc = history.history['val_accuracy']\n",
    "    loss = history.history['loss']\n",
    "    val_loss = history.history['val_loss']\n",
    "\n",
    "    epochs = range(len(acc))\n",
    "\n",
    "    plt.figure(figsize=(12,5))\n",
    "\n",
    "    plt.subplot(1,2,1)\n",
    "    plt.plot(epochs, acc, 'b', label='Training acc')\n",
    "    plt.plot(epochs, val_acc, 'r', label='Validation acc')\n",
    "    plt.title('Training and validation accuracy')\n",
    "    plt.legend()\n",
    "\n",
    "    plt.subplot(1,2,2)\n",
    "    plt.plot(epochs, loss, 'b', label='Training loss')\n",
    "    plt.plot(epochs, val_loss, 'r', label='Validation loss')\n",
    "    plt.title('Training and validation loss')\n",
    "    plt.legend()\n",
    "\n",
    "    plt.show()\n",
    "\n",
    "\n",
    "plot_loss(hist)"
   ]
  },
  {
   "cell_type": "markdown",
   "metadata": {},
   "source": [
    "# Loading the best Model"
   ]
  },
  {
   "cell_type": "code",
   "execution_count": 23,
   "metadata": {},
   "outputs": [],
   "source": [
    "model = load_model('model.h5')"
   ]
  },
  {
   "cell_type": "markdown",
   "metadata": {
    "colab_type": "text",
    "id": "F3r4Tsj5lgZp"
   },
   "source": [
    "# Evaluating the Model"
   ]
  },
  {
   "cell_type": "code",
   "execution_count": 24,
   "metadata": {},
   "outputs": [
    {
     "name": "stdout",
     "output_type": "stream",
     "text": [
      "Train Loss:  0.2912800681591034\n",
      "Train Acc:  0.914098\n"
     ]
    }
   ],
   "source": [
    "train_loss, train_acc = model.evaluate_generator(train_generator, steps = len(train_generator))\n",
    "print(\"Train Loss: \", train_loss)\n",
    "print(\"Train Acc: \", train_acc)"
   ]
  },
  {
   "cell_type": "code",
   "execution_count": 25,
   "metadata": {},
   "outputs": [
    {
     "name": "stdout",
     "output_type": "stream",
     "text": [
      "Validation Loss:  0.281641885638237\n",
      "Validation Acc:  0.914\n"
     ]
    }
   ],
   "source": [
    "validation_loss, validation_acc = model.evaluate_generator(validation_generator, steps = len(validation_generator))\n",
    "print(\"Validation Loss: \", validation_loss)\n",
    "print(\"Validation Acc: \", validation_acc)"
   ]
  },
  {
   "cell_type": "markdown",
   "metadata": {},
   "source": [
    "# Getting the Test Data"
   ]
  },
  {
   "cell_type": "code",
   "execution_count": 26,
   "metadata": {},
   "outputs": [
    {
     "data": {
      "text/html": [
       "<div>\n",
       "<style scoped>\n",
       "    .dataframe tbody tr th:only-of-type {\n",
       "        vertical-align: middle;\n",
       "    }\n",
       "\n",
       "    .dataframe tbody tr th {\n",
       "        vertical-align: top;\n",
       "    }\n",
       "\n",
       "    .dataframe thead th {\n",
       "        text-align: right;\n",
       "    }\n",
       "</style>\n",
       "<table border=\"1\" class=\"dataframe\">\n",
       "  <thead>\n",
       "    <tr style=\"text-align: right;\">\n",
       "      <th></th>\n",
       "      <th>label</th>\n",
       "      <th>pixel1</th>\n",
       "      <th>pixel2</th>\n",
       "      <th>pixel3</th>\n",
       "      <th>pixel4</th>\n",
       "      <th>pixel5</th>\n",
       "      <th>pixel6</th>\n",
       "      <th>pixel7</th>\n",
       "      <th>pixel8</th>\n",
       "      <th>pixel9</th>\n",
       "      <th>...</th>\n",
       "      <th>pixel775</th>\n",
       "      <th>pixel776</th>\n",
       "      <th>pixel777</th>\n",
       "      <th>pixel778</th>\n",
       "      <th>pixel779</th>\n",
       "      <th>pixel780</th>\n",
       "      <th>pixel781</th>\n",
       "      <th>pixel782</th>\n",
       "      <th>pixel783</th>\n",
       "      <th>pixel784</th>\n",
       "    </tr>\n",
       "  </thead>\n",
       "  <tbody>\n",
       "    <tr>\n",
       "      <th>0</th>\n",
       "      <td>0</td>\n",
       "      <td>0</td>\n",
       "      <td>0</td>\n",
       "      <td>0</td>\n",
       "      <td>0</td>\n",
       "      <td>0</td>\n",
       "      <td>0</td>\n",
       "      <td>0</td>\n",
       "      <td>9</td>\n",
       "      <td>8</td>\n",
       "      <td>...</td>\n",
       "      <td>103</td>\n",
       "      <td>87</td>\n",
       "      <td>56</td>\n",
       "      <td>0</td>\n",
       "      <td>0</td>\n",
       "      <td>0</td>\n",
       "      <td>0</td>\n",
       "      <td>0</td>\n",
       "      <td>0</td>\n",
       "      <td>0</td>\n",
       "    </tr>\n",
       "    <tr>\n",
       "      <th>1</th>\n",
       "      <td>1</td>\n",
       "      <td>0</td>\n",
       "      <td>0</td>\n",
       "      <td>0</td>\n",
       "      <td>0</td>\n",
       "      <td>0</td>\n",
       "      <td>0</td>\n",
       "      <td>0</td>\n",
       "      <td>0</td>\n",
       "      <td>0</td>\n",
       "      <td>...</td>\n",
       "      <td>34</td>\n",
       "      <td>0</td>\n",
       "      <td>0</td>\n",
       "      <td>0</td>\n",
       "      <td>0</td>\n",
       "      <td>0</td>\n",
       "      <td>0</td>\n",
       "      <td>0</td>\n",
       "      <td>0</td>\n",
       "      <td>0</td>\n",
       "    </tr>\n",
       "    <tr>\n",
       "      <th>2</th>\n",
       "      <td>2</td>\n",
       "      <td>0</td>\n",
       "      <td>0</td>\n",
       "      <td>0</td>\n",
       "      <td>0</td>\n",
       "      <td>0</td>\n",
       "      <td>0</td>\n",
       "      <td>14</td>\n",
       "      <td>53</td>\n",
       "      <td>99</td>\n",
       "      <td>...</td>\n",
       "      <td>0</td>\n",
       "      <td>0</td>\n",
       "      <td>0</td>\n",
       "      <td>0</td>\n",
       "      <td>63</td>\n",
       "      <td>53</td>\n",
       "      <td>31</td>\n",
       "      <td>0</td>\n",
       "      <td>0</td>\n",
       "      <td>0</td>\n",
       "    </tr>\n",
       "    <tr>\n",
       "      <th>3</th>\n",
       "      <td>2</td>\n",
       "      <td>0</td>\n",
       "      <td>0</td>\n",
       "      <td>0</td>\n",
       "      <td>0</td>\n",
       "      <td>0</td>\n",
       "      <td>0</td>\n",
       "      <td>0</td>\n",
       "      <td>0</td>\n",
       "      <td>0</td>\n",
       "      <td>...</td>\n",
       "      <td>137</td>\n",
       "      <td>126</td>\n",
       "      <td>140</td>\n",
       "      <td>0</td>\n",
       "      <td>133</td>\n",
       "      <td>224</td>\n",
       "      <td>222</td>\n",
       "      <td>56</td>\n",
       "      <td>0</td>\n",
       "      <td>0</td>\n",
       "    </tr>\n",
       "    <tr>\n",
       "      <th>4</th>\n",
       "      <td>3</td>\n",
       "      <td>0</td>\n",
       "      <td>0</td>\n",
       "      <td>0</td>\n",
       "      <td>0</td>\n",
       "      <td>0</td>\n",
       "      <td>0</td>\n",
       "      <td>0</td>\n",
       "      <td>0</td>\n",
       "      <td>0</td>\n",
       "      <td>...</td>\n",
       "      <td>0</td>\n",
       "      <td>0</td>\n",
       "      <td>0</td>\n",
       "      <td>0</td>\n",
       "      <td>0</td>\n",
       "      <td>0</td>\n",
       "      <td>0</td>\n",
       "      <td>0</td>\n",
       "      <td>0</td>\n",
       "      <td>0</td>\n",
       "    </tr>\n",
       "  </tbody>\n",
       "</table>\n",
       "<p>5 rows × 785 columns</p>\n",
       "</div>"
      ],
      "text/plain": [
       "   label  pixel1  pixel2  pixel3  pixel4  pixel5  pixel6  pixel7  pixel8  \\\n",
       "0      0       0       0       0       0       0       0       0       9   \n",
       "1      1       0       0       0       0       0       0       0       0   \n",
       "2      2       0       0       0       0       0       0      14      53   \n",
       "3      2       0       0       0       0       0       0       0       0   \n",
       "4      3       0       0       0       0       0       0       0       0   \n",
       "\n",
       "   pixel9  ...  pixel775  pixel776  pixel777  pixel778  pixel779  pixel780  \\\n",
       "0       8  ...       103        87        56         0         0         0   \n",
       "1       0  ...        34         0         0         0         0         0   \n",
       "2      99  ...         0         0         0         0        63        53   \n",
       "3       0  ...       137       126       140         0       133       224   \n",
       "4       0  ...         0         0         0         0         0         0   \n",
       "\n",
       "   pixel781  pixel782  pixel783  pixel784  \n",
       "0         0         0         0         0  \n",
       "1         0         0         0         0  \n",
       "2        31         0         0         0  \n",
       "3       222        56         0         0  \n",
       "4         0         0         0         0  \n",
       "\n",
       "[5 rows x 785 columns]"
      ]
     },
     "execution_count": 26,
     "metadata": {},
     "output_type": "execute_result"
    }
   ],
   "source": [
    "test_data = pd.read_csv(\"fashion-mnist_test.csv\")\n",
    "test_data.head()"
   ]
  },
  {
   "cell_type": "code",
   "execution_count": 27,
   "metadata": {},
   "outputs": [
    {
     "data": {
      "text/plain": [
       "(10000, 785)"
      ]
     },
     "execution_count": 27,
     "metadata": {},
     "output_type": "execute_result"
    }
   ],
   "source": [
    "test_data.shape"
   ]
  },
  {
   "cell_type": "code",
   "execution_count": 28,
   "metadata": {},
   "outputs": [],
   "source": [
    "X_test = test_data.iloc[:, 1:]\n",
    "y_test = test_data[['label']]"
   ]
  },
  {
   "cell_type": "markdown",
   "metadata": {},
   "source": [
    "# Reshaping the Test Data"
   ]
  },
  {
   "cell_type": "code",
   "execution_count": 29,
   "metadata": {},
   "outputs": [],
   "source": [
    "X_test = X_test.to_numpy().reshape(-1, 28, 28, 1)\n",
    "y_test = y_test.to_numpy()"
   ]
  },
  {
   "cell_type": "code",
   "execution_count": 30,
   "metadata": {},
   "outputs": [
    {
     "name": "stdout",
     "output_type": "stream",
     "text": [
      "X_test :  (10000, 28, 28, 1)\n",
      "y_test :  (10000, 1)\n"
     ]
    }
   ],
   "source": [
    "print(\"X_test : \", X_test.shape)\n",
    "print(\"y_test : \", y_test.shape)"
   ]
  },
  {
   "cell_type": "markdown",
   "metadata": {},
   "source": [
    "# Rescaling the Test Input"
   ]
  },
  {
   "cell_type": "code",
   "execution_count": 31,
   "metadata": {},
   "outputs": [],
   "source": [
    "X_test = X_test / 255"
   ]
  },
  {
   "cell_type": "markdown",
   "metadata": {
    "colab_type": "text",
    "id": "UuH5oYMAyjrZ"
   },
   "source": [
    "# Predicting the Labels of the Test Data"
   ]
  },
  {
   "cell_type": "code",
   "execution_count": 32,
   "metadata": {
    "colab": {
     "base_uri": "https://localhost:8080/",
     "height": 235
    },
    "colab_type": "code",
    "id": "TKej1tS9y8hm",
    "outputId": "8fcbc782-ca5a-4fed-d391-479d36ed6a9f"
   },
   "outputs": [
    {
     "name": "stdout",
     "output_type": "stream",
     "text": [
      "(10000, 10)\n"
     ]
    }
   ],
   "source": [
    "pred_probs = model.predict(X_test, batch_size = 1024)\n",
    "print(pred_probs.shape)"
   ]
  },
  {
   "cell_type": "code",
   "execution_count": 33,
   "metadata": {
    "colab": {
     "base_uri": "https://localhost:8080/",
     "height": 34
    },
    "colab_type": "code",
    "id": "KZu5aUAKzrBb",
    "outputId": "3d827f53-aab3-4c52-bbbd-e4999f720752"
   },
   "outputs": [
    {
     "name": "stdout",
     "output_type": "stream",
     "text": [
      "(10000,)\n"
     ]
    }
   ],
   "source": [
    "pred_labels = pred_probs.argmax(axis=1)\n",
    "print(pred_labels.shape)"
   ]
  },
  {
   "cell_type": "markdown",
   "metadata": {},
   "source": [
    "# Getting the Test Accuracy"
   ]
  },
  {
   "cell_type": "code",
   "execution_count": 34,
   "metadata": {},
   "outputs": [],
   "source": [
    "total_correct_labels = np.sum(np.squeeze(y_test) == pred_labels)"
   ]
  },
  {
   "cell_type": "code",
   "execution_count": 35,
   "metadata": {},
   "outputs": [],
   "source": [
    "test_acc = total_correct_labels / y_test.shape[0]"
   ]
  },
  {
   "cell_type": "code",
   "execution_count": 36,
   "metadata": {},
   "outputs": [
    {
     "name": "stdout",
     "output_type": "stream",
     "text": [
      "Test Accuracy: 91.82000000000001 %\n"
     ]
    }
   ],
   "source": [
    "print(\"Test Accuracy: {} %\".format(test_acc * 100))"
   ]
  },
  {
   "cell_type": "markdown",
   "metadata": {
    "colab_type": "text",
    "id": "fOQ7pOyFwoPB"
   },
   "source": [
    "# Creating the Output CSV File"
   ]
  },
  {
   "cell_type": "code",
   "execution_count": 37,
   "metadata": {},
   "outputs": [
    {
     "data": {
      "text/plain": [
       "array([    1,     2,     3, ...,  9998,  9999, 10000])"
      ]
     },
     "execution_count": 37,
     "metadata": {},
     "output_type": "execute_result"
    }
   ],
   "source": [
    "imageid = np.arange(pred_labels.shape[0]) + 1\n",
    "imageid"
   ]
  },
  {
   "cell_type": "code",
   "execution_count": 38,
   "metadata": {},
   "outputs": [
    {
     "data": {
      "text/html": [
       "<div>\n",
       "<style scoped>\n",
       "    .dataframe tbody tr th:only-of-type {\n",
       "        vertical-align: middle;\n",
       "    }\n",
       "\n",
       "    .dataframe tbody tr th {\n",
       "        vertical-align: top;\n",
       "    }\n",
       "\n",
       "    .dataframe thead th {\n",
       "        text-align: right;\n",
       "    }\n",
       "</style>\n",
       "<table border=\"1\" class=\"dataframe\">\n",
       "  <thead>\n",
       "    <tr style=\"text-align: right;\">\n",
       "      <th></th>\n",
       "      <th>ImageId</th>\n",
       "      <th>Label</th>\n",
       "    </tr>\n",
       "  </thead>\n",
       "  <tbody>\n",
       "    <tr>\n",
       "      <th>0</th>\n",
       "      <td>1</td>\n",
       "      <td>0</td>\n",
       "    </tr>\n",
       "    <tr>\n",
       "      <th>1</th>\n",
       "      <td>2</td>\n",
       "      <td>1</td>\n",
       "    </tr>\n",
       "    <tr>\n",
       "      <th>2</th>\n",
       "      <td>3</td>\n",
       "      <td>2</td>\n",
       "    </tr>\n",
       "    <tr>\n",
       "      <th>3</th>\n",
       "      <td>4</td>\n",
       "      <td>2</td>\n",
       "    </tr>\n",
       "    <tr>\n",
       "      <th>4</th>\n",
       "      <td>5</td>\n",
       "      <td>3</td>\n",
       "    </tr>\n",
       "  </tbody>\n",
       "</table>\n",
       "</div>"
      ],
      "text/plain": [
       "   ImageId  Label\n",
       "0        1      0\n",
       "1        2      1\n",
       "2        3      2\n",
       "3        4      2\n",
       "4        5      3"
      ]
     },
     "execution_count": 38,
     "metadata": {},
     "output_type": "execute_result"
    }
   ],
   "source": [
    "df = pd.DataFrame({'ImageId': imageid, 'Label': pred_labels})\n",
    "df.head()"
   ]
  },
  {
   "cell_type": "code",
   "execution_count": 39,
   "metadata": {},
   "outputs": [],
   "source": [
    "df.to_csv('test_output.csv', index = False)"
   ]
  },
  {
   "cell_type": "markdown",
   "metadata": {},
   "source": [
    "**This model gave an accuracy of 91.82% on the Test Dataset.**"
   ]
  }
 ],
 "metadata": {
  "accelerator": "TPU",
  "colab": {
   "collapsed_sections": [],
   "name": "Keras_Implementation.ipynb",
   "provenance": [],
   "version": "0.3.2"
  },
  "kernelspec": {
   "display_name": "Python 3",
   "language": "python",
   "name": "python3"
  },
  "language_info": {
   "codemirror_mode": {
    "name": "ipython",
    "version": 3
   },
   "file_extension": ".py",
   "mimetype": "text/x-python",
   "name": "python",
   "nbconvert_exporter": "python",
   "pygments_lexer": "ipython3",
   "version": "3.7.3"
  }
 },
 "nbformat": 4,
 "nbformat_minor": 1
}
